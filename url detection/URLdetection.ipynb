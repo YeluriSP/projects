{
  "nbformat": 4,
  "nbformat_minor": 0,
  "metadata": {
    "colab": {
      "provenance": [],
      "gpuType": "T4"
    },
    "kernelspec": {
      "name": "python3",
      "display_name": "Python 3"
    },
    "language_info": {
      "name": "python"
    },
    "accelerator": "GPU"
  },
  "cells": [
    {
      "cell_type": "code",
      "source": [
        "# Download data from Github\n",
        "! git clone https://github.com/NetsecExplained/Machine-Learning-for-Security-Analysts.git\n",
        "\n",
        "# Install dependencies\n",
        "! pip install nltk sklearn pandas matplotlib seaborn\n",
        "data_dir = \"Machine-Learning-for-Security-Analysts/Malicious URLs.csv\""
      ],
      "metadata": {
        "colab": {
          "base_uri": "https://localhost:8080/"
        },
        "id": "P-PpsPDt51g7",
        "outputId": "1cbb669d-63db-4ffb-80ad-99705d7055a1"
      },
      "execution_count": null,
      "outputs": [
        {
          "output_type": "stream",
          "name": "stdout",
          "text": [
            "Cloning into 'Machine-Learning-for-Security-Analysts'...\n",
            "remote: Enumerating objects: 4197, done.\u001b[K\n",
            "remote: Counting objects: 100% (11/11), done.\u001b[K\n",
            "remote: Compressing objects: 100% (10/10), done.\u001b[K\n",
            "remote: Total 4197 (delta 4), reused 1 (delta 0), pack-reused 4186\u001b[K\n",
            "Receiving objects: 100% (4197/4197), 14.84 MiB | 23.74 MiB/s, done.\n",
            "Resolving deltas: 100% (64/64), done.\n",
            "Requirement already satisfied: nltk in /usr/local/lib/python3.10/dist-packages (3.8.1)\n",
            "Collecting sklearn\n",
            "  Downloading sklearn-0.0.post9.tar.gz (3.6 kB)\n",
            "  \u001b[1;31merror\u001b[0m: \u001b[1msubprocess-exited-with-error\u001b[0m\n",
            "  \n",
            "  \u001b[31m×\u001b[0m \u001b[32mpython setup.py egg_info\u001b[0m did not run successfully.\n",
            "  \u001b[31m│\u001b[0m exit code: \u001b[1;36m1\u001b[0m\n",
            "  \u001b[31m╰─>\u001b[0m See above for output.\n",
            "  \n",
            "  \u001b[1;35mnote\u001b[0m: This error originates from a subprocess, and is likely not a problem with pip.\n",
            "  Preparing metadata (setup.py) ... \u001b[?25l\u001b[?25herror\n",
            "\u001b[1;31merror\u001b[0m: \u001b[1mmetadata-generation-failed\u001b[0m\n",
            "\n",
            "\u001b[31m×\u001b[0m Encountered error while generating package metadata.\n",
            "\u001b[31m╰─>\u001b[0m See above for output.\n",
            "\n",
            "\u001b[1;35mnote\u001b[0m: This is an issue with the package mentioned above, not pip.\n",
            "\u001b[1;36mhint\u001b[0m: See above for details.\n"
          ]
        }
      ]
    },
    {
      "cell_type": "code",
      "execution_count": null,
      "metadata": {
        "colab": {
          "base_uri": "https://localhost:8080/"
        },
        "id": "ZNkXvD-YrVR-",
        "outputId": "21d393a0-54b6-4000-915a-9bced3859708"
      },
      "outputs": [
        {
          "output_type": "stream",
          "name": "stdout",
          "text": [
            "now our libraries has been installed\n",
            "\n"
          ]
        }
      ],
      "source": [
        "#importing all dependencies\n",
        "import seaborn as sns\n",
        "import matplotlib.pyplot as plt\n",
        "import numpy as np\n",
        "import pandas as pd\n",
        "import random\n",
        "import re\n",
        "\n",
        "%matplotlib inline\n",
        "\n",
        "from nltk.corpus import stopwords\n",
        "from nltk.stem.porter import PorterStemmer\n",
        "\n",
        "from sklearn.model_selection import train_test_split\n",
        "from sklearn.feature_extraction.text import TfidfVectorizer,CountVectorizer\n",
        "\n",
        "# Import Scikit-learn models\n",
        "from sklearn.linear_model import LogisticRegression\n",
        "from sklearn.naive_bayes import MultinomialNB\n",
        "\n",
        "from sklearn.metrics import  accuracy_score, confusion_matrix, classification_report\n",
        "\n",
        "print('now our libraries has been installed\\n')\n"
      ]
    },
    {
      "cell_type": "code",
      "source": [
        "print('loading the dataset...')\n",
        "url_dataset = pd.read_csv('Machine-Learning-for-Security-Analysts/Malicious URLs.csv')\n",
        "test_url = url_dataset['URLs'][4]\n",
        "print('dataset has been installed')"
      ],
      "metadata": {
        "colab": {
          "base_uri": "https://localhost:8080/"
        },
        "id": "RbLEMceJ9pg5",
        "outputId": "d911e432-c620-4799-bd00-e890d1fc93e6"
      },
      "execution_count": null,
      "outputs": [
        {
          "output_type": "stream",
          "name": "stdout",
          "text": [
            "loading the dataset...\n",
            "dataset has been installed\n"
          ]
        }
      ]
    },
    {
      "cell_type": "code",
      "source": [
        "url_dataset.head()"
      ],
      "metadata": {
        "colab": {
          "base_uri": "https://localhost:8080/",
          "height": 532
        },
        "id": "d6otpu9jBJw2",
        "outputId": "a5f828da-03ad-40b6-e57c-4dd5e0cee8c5"
      },
      "execution_count": null,
      "outputs": [
        {
          "output_type": "execute_result",
          "data": {
            "text/plain": [
              "                                                URLs Class\n",
              "0                    freebase.com/view/en/bob_sirois  good\n",
              "1                     en.wikipedia.org/wiki/Joie_Lee  good\n",
              "2           pipl.com/directory/people/Rejean/Beaudin  good\n",
              "3  flickr.com/photos/teneyck/sets/72157610336209297/  good\n",
              "4  ussoccer.com/News/Federation-Services/2009/06/...  good"
            ],
            "text/html": [
              "\n",
              "  <div id=\"df-02437ebd-f505-4203-8bc9-a78a0f5b21d6\" class=\"colab-df-container\">\n",
              "    <div>\n",
              "<style scoped>\n",
              "    .dataframe tbody tr th:only-of-type {\n",
              "        vertical-align: middle;\n",
              "    }\n",
              "\n",
              "    .dataframe tbody tr th {\n",
              "        vertical-align: top;\n",
              "    }\n",
              "\n",
              "    .dataframe thead th {\n",
              "        text-align: right;\n",
              "    }\n",
              "</style>\n",
              "<table border=\"1\" class=\"dataframe\">\n",
              "  <thead>\n",
              "    <tr style=\"text-align: right;\">\n",
              "      <th></th>\n",
              "      <th>URLs</th>\n",
              "      <th>Class</th>\n",
              "    </tr>\n",
              "  </thead>\n",
              "  <tbody>\n",
              "    <tr>\n",
              "      <th>0</th>\n",
              "      <td>freebase.com/view/en/bob_sirois</td>\n",
              "      <td>good</td>\n",
              "    </tr>\n",
              "    <tr>\n",
              "      <th>1</th>\n",
              "      <td>en.wikipedia.org/wiki/Joie_Lee</td>\n",
              "      <td>good</td>\n",
              "    </tr>\n",
              "    <tr>\n",
              "      <th>2</th>\n",
              "      <td>pipl.com/directory/people/Rejean/Beaudin</td>\n",
              "      <td>good</td>\n",
              "    </tr>\n",
              "    <tr>\n",
              "      <th>3</th>\n",
              "      <td>flickr.com/photos/teneyck/sets/72157610336209297/</td>\n",
              "      <td>good</td>\n",
              "    </tr>\n",
              "    <tr>\n",
              "      <th>4</th>\n",
              "      <td>ussoccer.com/News/Federation-Services/2009/06/...</td>\n",
              "      <td>good</td>\n",
              "    </tr>\n",
              "  </tbody>\n",
              "</table>\n",
              "</div>\n",
              "    <div class=\"colab-df-buttons\">\n",
              "\n",
              "  <div class=\"colab-df-container\">\n",
              "    <button class=\"colab-df-convert\" onclick=\"convertToInteractive('df-02437ebd-f505-4203-8bc9-a78a0f5b21d6')\"\n",
              "            title=\"Convert this dataframe to an interactive table.\"\n",
              "            style=\"display:none;\">\n",
              "\n",
              "  <svg xmlns=\"http://www.w3.org/2000/svg\" height=\"24px\" viewBox=\"0 -960 960 960\">\n",
              "    <path d=\"M120-120v-720h720v720H120Zm60-500h600v-160H180v160Zm220 220h160v-160H400v160Zm0 220h160v-160H400v160ZM180-400h160v-160H180v160Zm440 0h160v-160H620v160ZM180-180h160v-160H180v160Zm440 0h160v-160H620v160Z\"/>\n",
              "  </svg>\n",
              "    </button>\n",
              "\n",
              "  <style>\n",
              "    .colab-df-container {\n",
              "      display:flex;\n",
              "      gap: 12px;\n",
              "    }\n",
              "\n",
              "    .colab-df-convert {\n",
              "      background-color: #E8F0FE;\n",
              "      border: none;\n",
              "      border-radius: 50%;\n",
              "      cursor: pointer;\n",
              "      display: none;\n",
              "      fill: #1967D2;\n",
              "      height: 32px;\n",
              "      padding: 0 0 0 0;\n",
              "      width: 32px;\n",
              "    }\n",
              "\n",
              "    .colab-df-convert:hover {\n",
              "      background-color: #E2EBFA;\n",
              "      box-shadow: 0px 1px 2px rgba(60, 64, 67, 0.3), 0px 1px 3px 1px rgba(60, 64, 67, 0.15);\n",
              "      fill: #174EA6;\n",
              "    }\n",
              "\n",
              "    .colab-df-buttons div {\n",
              "      margin-bottom: 4px;\n",
              "    }\n",
              "\n",
              "    [theme=dark] .colab-df-convert {\n",
              "      background-color: #3B4455;\n",
              "      fill: #D2E3FC;\n",
              "    }\n",
              "\n",
              "    [theme=dark] .colab-df-convert:hover {\n",
              "      background-color: #434B5C;\n",
              "      box-shadow: 0px 1px 3px 1px rgba(0, 0, 0, 0.15);\n",
              "      filter: drop-shadow(0px 1px 2px rgba(0, 0, 0, 0.3));\n",
              "      fill: #FFFFFF;\n",
              "    }\n",
              "  </style>\n",
              "\n",
              "    <script>\n",
              "      const buttonEl =\n",
              "        document.querySelector('#df-02437ebd-f505-4203-8bc9-a78a0f5b21d6 button.colab-df-convert');\n",
              "      buttonEl.style.display =\n",
              "        google.colab.kernel.accessAllowed ? 'block' : 'none';\n",
              "\n",
              "      async function convertToInteractive(key) {\n",
              "        const element = document.querySelector('#df-02437ebd-f505-4203-8bc9-a78a0f5b21d6');\n",
              "        const dataTable =\n",
              "          await google.colab.kernel.invokeFunction('convertToInteractive',\n",
              "                                                    [key], {});\n",
              "        if (!dataTable) return;\n",
              "\n",
              "        const docLinkHtml = 'Like what you see? Visit the ' +\n",
              "          '<a target=\"_blank\" href=https://colab.research.google.com/notebooks/data_table.ipynb>data table notebook</a>'\n",
              "          + ' to learn more about interactive tables.';\n",
              "        element.innerHTML = '';\n",
              "        dataTable['output_type'] = 'display_data';\n",
              "        await google.colab.output.renderOutput(dataTable, element);\n",
              "        const docLink = document.createElement('div');\n",
              "        docLink.innerHTML = docLinkHtml;\n",
              "        element.appendChild(docLink);\n",
              "      }\n",
              "    </script>\n",
              "  </div>\n",
              "\n",
              "\n",
              "<div id=\"df-ada4840c-d053-420b-b0b2-5e4a9546af75\">\n",
              "  <button class=\"colab-df-quickchart\" onclick=\"quickchart('df-ada4840c-d053-420b-b0b2-5e4a9546af75')\"\n",
              "            title=\"Suggest charts.\"\n",
              "            style=\"display:none;\">\n",
              "\n",
              "<svg xmlns=\"http://www.w3.org/2000/svg\" height=\"24px\"viewBox=\"0 0 24 24\"\n",
              "     width=\"24px\">\n",
              "    <g>\n",
              "        <path d=\"M19 3H5c-1.1 0-2 .9-2 2v14c0 1.1.9 2 2 2h14c1.1 0 2-.9 2-2V5c0-1.1-.9-2-2-2zM9 17H7v-7h2v7zm4 0h-2V7h2v10zm4 0h-2v-4h2v4z\"/>\n",
              "    </g>\n",
              "</svg>\n",
              "  </button>\n",
              "\n",
              "<style>\n",
              "  .colab-df-quickchart {\n",
              "      --bg-color: #E8F0FE;\n",
              "      --fill-color: #1967D2;\n",
              "      --hover-bg-color: #E2EBFA;\n",
              "      --hover-fill-color: #174EA6;\n",
              "      --disabled-fill-color: #AAA;\n",
              "      --disabled-bg-color: #DDD;\n",
              "  }\n",
              "\n",
              "  [theme=dark] .colab-df-quickchart {\n",
              "      --bg-color: #3B4455;\n",
              "      --fill-color: #D2E3FC;\n",
              "      --hover-bg-color: #434B5C;\n",
              "      --hover-fill-color: #FFFFFF;\n",
              "      --disabled-bg-color: #3B4455;\n",
              "      --disabled-fill-color: #666;\n",
              "  }\n",
              "\n",
              "  .colab-df-quickchart {\n",
              "    background-color: var(--bg-color);\n",
              "    border: none;\n",
              "    border-radius: 50%;\n",
              "    cursor: pointer;\n",
              "    display: none;\n",
              "    fill: var(--fill-color);\n",
              "    height: 32px;\n",
              "    padding: 0;\n",
              "    width: 32px;\n",
              "  }\n",
              "\n",
              "  .colab-df-quickchart:hover {\n",
              "    background-color: var(--hover-bg-color);\n",
              "    box-shadow: 0 1px 2px rgba(60, 64, 67, 0.3), 0 1px 3px 1px rgba(60, 64, 67, 0.15);\n",
              "    fill: var(--button-hover-fill-color);\n",
              "  }\n",
              "\n",
              "  .colab-df-quickchart-complete:disabled,\n",
              "  .colab-df-quickchart-complete:disabled:hover {\n",
              "    background-color: var(--disabled-bg-color);\n",
              "    fill: var(--disabled-fill-color);\n",
              "    box-shadow: none;\n",
              "  }\n",
              "\n",
              "  .colab-df-spinner {\n",
              "    border: 2px solid var(--fill-color);\n",
              "    border-color: transparent;\n",
              "    border-bottom-color: var(--fill-color);\n",
              "    animation:\n",
              "      spin 1s steps(1) infinite;\n",
              "  }\n",
              "\n",
              "  @keyframes spin {\n",
              "    0% {\n",
              "      border-color: transparent;\n",
              "      border-bottom-color: var(--fill-color);\n",
              "      border-left-color: var(--fill-color);\n",
              "    }\n",
              "    20% {\n",
              "      border-color: transparent;\n",
              "      border-left-color: var(--fill-color);\n",
              "      border-top-color: var(--fill-color);\n",
              "    }\n",
              "    30% {\n",
              "      border-color: transparent;\n",
              "      border-left-color: var(--fill-color);\n",
              "      border-top-color: var(--fill-color);\n",
              "      border-right-color: var(--fill-color);\n",
              "    }\n",
              "    40% {\n",
              "      border-color: transparent;\n",
              "      border-right-color: var(--fill-color);\n",
              "      border-top-color: var(--fill-color);\n",
              "    }\n",
              "    60% {\n",
              "      border-color: transparent;\n",
              "      border-right-color: var(--fill-color);\n",
              "    }\n",
              "    80% {\n",
              "      border-color: transparent;\n",
              "      border-right-color: var(--fill-color);\n",
              "      border-bottom-color: var(--fill-color);\n",
              "    }\n",
              "    90% {\n",
              "      border-color: transparent;\n",
              "      border-bottom-color: var(--fill-color);\n",
              "    }\n",
              "  }\n",
              "</style>\n",
              "\n",
              "  <script>\n",
              "    async function quickchart(key) {\n",
              "      const quickchartButtonEl =\n",
              "        document.querySelector('#' + key + ' button');\n",
              "      quickchartButtonEl.disabled = true;  // To prevent multiple clicks.\n",
              "      quickchartButtonEl.classList.add('colab-df-spinner');\n",
              "      try {\n",
              "        const charts = await google.colab.kernel.invokeFunction(\n",
              "            'suggestCharts', [key], {});\n",
              "      } catch (error) {\n",
              "        console.error('Error during call to suggestCharts:', error);\n",
              "      }\n",
              "      quickchartButtonEl.classList.remove('colab-df-spinner');\n",
              "      quickchartButtonEl.classList.add('colab-df-quickchart-complete');\n",
              "    }\n",
              "    (() => {\n",
              "      let quickchartButtonEl =\n",
              "        document.querySelector('#df-ada4840c-d053-420b-b0b2-5e4a9546af75 button');\n",
              "      quickchartButtonEl.style.display =\n",
              "        google.colab.kernel.accessAllowed ? 'block' : 'none';\n",
              "    })();\n",
              "  </script>\n",
              "</div>\n",
              "    </div>\n",
              "  </div>\n"
            ]
          },
          "metadata": {},
          "execution_count": 4
        },
        {
          "output_type": "display_data",
          "data": {
            "text/plain": [
              "<google.colab._quickchart_helpers.SectionTitle at 0x7971569853c0>"
            ],
            "text/html": [
              "<h4 class=\"colab-quickchart-section-title\">Categorical distributions</h4>\n",
              "<style>\n",
              "  .colab-quickchart-section-title {\n",
              "      clear: both;\n",
              "  }\n",
              "</style>"
            ]
          },
          "metadata": {}
        },
        {
          "output_type": "display_data",
          "data": {
            "text/plain": [
              "import numpy as np\n",
              "from google.colab import autoviz\n",
              "\n",
              "def categorical_histogram(df, colname, figscale=1, mpl_palette_name='Dark2'):\n",
              "  from matplotlib import pyplot as plt\n",
              "  import seaborn as sns\n",
              "  df.groupby(colname).size().plot(kind='barh', color=sns.palettes.mpl_palette(mpl_palette_name), figsize=(8*figscale, 4.8*figscale))\n",
              "  plt.gca().spines[['top', 'right',]].set_visible(False)\n",
              "  return autoviz.MplChart.from_current_mpl_state()\n",
              "\n",
              "chart = categorical_histogram(_df_0, *['URLs'], **{})\n",
              "chart"
            ],
            "text/html": [
              "      <div class=\"colab-quickchart-chart-with-code\" id=\"chart-cd4edaba-e896-4023-b647-a0c9b78e9784\">\n",
              "        <img src=\"data:image/png;base64,iVBORw0KGgoAAAANSUhEUgAABM0AAADgCAYAAAAQV5EDAAAAOXRFWHRTb2Z0d2FyZQBNYXRwbG90\n",
              "bGliIHZlcnNpb24zLjcuMSwgaHR0cHM6Ly9tYXRwbG90bGliLm9yZy/bCgiHAAAACXBIWXMAAA9h\n",
              "AAAPYQGoP6dpAABpK0lEQVR4nO3dd3RU1drH8e8kgSi9d7mRTuqkECAQIBDp0kR6FxARECkCioCo\n",
              "gIIGBDWoQJAuKqFIuQQS6SXAJIFIFUSlKhA6Icm8f2TlvMykIs2rv89aWStzzj777FNn5pln72Oy\n",
              "Wq1WRERERERERERExODwpBsgIiIiIiIiIiLyd6OgmYiIiIiIiIiIiB0FzUREREREREREROwoaCYi\n",
              "IiIiIiIiImJHQTMRERERERERERE7CpqJiIiIiIiIiIjYUdBMRERERERERETEjoJmIiIiIiIiIiIi\n",
              "dhQ0ExERERERkUzNmDHjSTdBROSJUNBMREREREREMvXLL7886SaIiDwRCpqJiIiIiIiIiIjYUdBM\n",
              "RERERERERETEjoJmIiIiIiIiIiIidhQ0ExERERERERERsaOgmYiIiIiIiIiIiB0FzURERERERERE\n",
              "ROwoaCYiIiIiIiIiImJHQTMRERERERERERE7JqvVan3SjRAREREREZG/J8/mBajdvfCTboaISDqz\n",
              "O//ySOtXppmIiIiIiIiIiIgdBc1ERERERERERETsKGgmIiIiIiIiIiJiR0EzEREREREREREROwqa\n",
              "/Y14enpy9uxZevXqRe7cufn555+NeSNGjGDChAmPvA13797FxcWFxMREGjRowLPPPovZbMZsNtO8\n",
              "efP7quvgwYO4uLg89DaGhYVx+PBh4/WqVat4/fXXH+o67t69y5AhQ3Bzc8PLywtXV1c+/vjjh7qO\n",
              "M2fOEBgY+FDrvNegQYNYtmwZS5cuxWw24+7ujru7Ox999JFNuTlz5lC5cmUqVqxIv379uHv3brbz\n",
              "UlJSGDFiBO7u7lSrVo2XXnqJxMTEDNcP8N5771GxYkUqVqzIW2+9ZVPuxx9/pEaNGri5ueHq6srO\n",
              "nTtt5qddFw0aNCA8PNxmXq9evZg+fXq2+yI0NJSpU6dmW+5huHddFouFpUuX/uW6fvrpJ1q0aGHs\n",
              "u5YtW9qc+5cuXaJOnTqYzWbef/99m2VPnTqFyWSidevWNtPHjx+PyWQy9uW4ceNYtGjRX25jRvr2\n",
              "7UtkZGSG8yZMmEDx4sUxm81Ur16djh07cvny5Yey3uyuqWLFinHq1KkHWsf06dM5d+5cpvPDwsIo\n",
              "WLAg3t7eVK9eHS8vL9555x1u3br1QOt9mEwmEx4eHsa93Ww28+eff2ZYNjQ0FE9PT8xmM9WqVaNr\n",
              "16429Vy5cuUvrT8ny/3V+qOiojCbzdmWe1jvHatWrTL2Y6lSpYzz22w2P/RrKzPNmzc31nnv8c3p\n",
              "e0xUVBRPP/20UYebmxtffvllpuUf1ftXr169KFu2rM25mda+e4+p/Tk8btw4Y179+vWpVKkSmT3n\n",
              "av78+QQHBxuvf/vtN0wmE2FhYca0KVOm0L179/tq+6lTpyhUqFCm87O7/3z66ae4u7tTvXp1fHx8\n",
              "6Ny5M6dPn76vNmQmbT+5urri6OhovO7YsWOOls9s23J6jTZv3pwjR44A6T/D3Y9Zs2bRq1evDOdl\n",
              "9bnt1KlThIaG5ng9EyZM4Pbt23+pjZlxcXHBYrE81DpFROTxcHrSDfg7SklJAcDB4fHFFI8fP06+\n",
              "fPkoXbo0AGXLluWtt95iyZIlj60NkPrBtHbt2uTOnRuAkJAQ2rRp81jbkJSUhJNT5qdmWFgYhQoV\n",
              "olq1agC0atWKVq1aPdQ2zJgxgzNnzhATE4OTkxO3b9/mxIkT911PcnIyjo6OGc4rU6YMW7dufdCm\n",
              "ZshqtbJu3TomT55MbGws69evp1SpUiQkJODr64uvry8NGjTg5MmTvP322+zfv5+SJUvSunVrvvji\n",
              "C1599dUs582ZM4f9+/ezf/9+cuXKRf/+/ZkxYwYjR45Mt/4tW7awZMkSYmNjcXJyok6dOgQEBNCi\n",
              "RQvOnDlDz549WbduHdWrV+fOnTs2wQX76+KvGjBgwAMtby+rc/TedVksFsLDw+nUqdN9r+PMmTPU\n",
              "r1+f6dOn06VLFwCWLFlCgwYNsFgslCpVio0bN5IvXz62b9+eYR0FCxbk6NGjnD9/npIlS5KSksKS\n",
              "JUvw8PAwykycOPG+25adr776Ksv5Xbt2Zfr06SQnJ/Piiy/y3nvvpQvmZncfyMijvKbSTJ8+nQYN\n",
              "GlCqVKlMywQFBRlByQsXLtC3b186duzIqlWrHmnb7sfWrVuz/IIPEB0dzYcffkh0dDRFihTBarVy\n",
              "4MCBx9PAx+BhvXfcW8+ECRO4cuVKjoL5D9PatWuN/00mU46Or72qVasaX+p/++03KlasSKdOncif\n",
              "P79NuaSkpEd6rY0cOZKhQ4dmWy6jbTx27BjHjh2jcOHC/PjjjzRo0CDdckFBQQwcOJDExERy585N\n",
              "ZGQkNWvWJCoqygjIREZG3td9OykpKcdlMzJ+/Hj++9//sn79esqVKwfApk2bOHfuHOXLl3+gugHj\n",
              "uJ46dQqz2fzYgzf3np/2n+Eelqw+t6UFzXL6WeCdd95h6NChPPXUUw+1jSIi8r/pkUWF7H99SvuF\n",
              "LSUlhUGDBhm/wPv6+nL79m0uXrxI48aN8fDwwNPTk969ewOpQYeRI0caWTKDBw82MloSEhLo27cv\n",
              "7u7ueHl50adPHwASExONZby8vGjatKnRjmnTpuHv74+Pjw9Nmzbll19SH086YcIEXnjhBZo0aYK7\n",
              "uztnz5612Z558+ZhNpvx8vLCz8/P+LVwwYIFeHp64unpSYsWLfj999+B1A8FwcHBdO7cGVdXVwIC\n",
              "AoiPj6dt27ZUr16dxo0bc/36daP+FStW2ASn+vfvz/bt29m/f3+G+zez7ShbtixnzpwBoEOHDgQE\n",
              "BABw584dihYtyp07d9i1axe+vr5G9tHnn39u1BseHk7btm2zPLYbNmygbt26+Pr64u/vb5NRMmHC\n",
              "BCpXroyvr2+6DJvMlouKisLNzY2XXnoJs9nMihUrWLx4MTVr1sTb2xsvLy9Wr14NpH4Zj46O5vXX\n",
              "X8dsNrN27VrCwsJs9t3UqVNxc3PDw8ODrl27kpCQYLStY8eOPP/887i6utKwYUMuXbqU4Tb+9ttv\n",
              "lChRwvjS/tRTT+Hm5mbMX7BgATVr1sTHx4d69eoRExMDpB73oKAgXnjhBTw8PNi1a5dNgAKgQYMG\n",
              "rFy5Mt0vtzt37qRu3bp4eXnh6enJypUrgdQvAS1atKBGjRp4enoya9YsAG7dukXHjh1xdXXFy8uL\n",
              "xo0bG3VFR0dTtWpV8ufPT506dYwv+AULFqRatWrG+fvtt9/SqlUrSpUqhclkYsCAAUagNqt5MTEx\n",
              "BAcHkzt3bkwmE82aNWPBggUZrn/ZsmV0796dvHnz4uzsTJ8+fYx6PvvsM7p06UL16tUBcHZ2ttkn\n",
              "9tdFVnr16sXLL79Mo0aNqFKlCu3atTPuFRMmTDC+hFWpUoXo6GhjubCwMOOcP3fuHB06dMDf3x8P\n",
              "Dw/Gjh1rlHNxcWHUqFH4+/vTs2dPjh07Rp06dfDy8rIpm7auCxcuMG7cOCIjIzGbzQwYMIBp06bR\n",
              "v39/o84rV65QrFixDM/Dzz77jAYNGhgBM4DOnTtTr149PvvsMyIiIhg5ciS7du3CbDYTERGR4X7p\n",
              "1q0bX3/9NQARERF4e3tTpEgRm/2W9gV/06ZN1K5dG29vb9zc3JgzZ45Nuf79+xMcHMyzzz5Lnz59\n",
              "2LNnDw0aNKBChQoMGzbMKJtRVmBGHB0dCQ4O5siRI8b1MGrUKHx8fJg1a1amxyOz9xH7a2rVqlVU\n",
              "r14dT09P3njjDZt1Z3ZdQer716RJk/D39+fZZ59l3rx5QGqA8cyZM3Ts2DHHXzxLlCjB/PnziYiI\n",
              "4NChQ0DqvdDHxwdPT0/q169PfHw8kHovdHd3Z+DAgXh5eeHm5macq2nbNn78eHx9falUqZLNF9Gu\n",
              "Xbvi5+dnvBdllQ2XU7/99hv58+c3giYmkwkfHx+bMp999lm6/QSp2dE1atTAbDZTr149I8vE3sMu\n",
              "l5Gs3qfT7i9Z7fvMPp9k5+7du4wePRp/f3/MZjMdOnQwsioze4+D1Otn+PDh1KtXj/Lly/P222+z\n",
              "du1a6tati4uLy31lPWd2rmXn6tWr5M2bl1y5chltGjJkCLVr16Zx48bprrXMrhmAHTt2YDab8fDw\n",
              "oE+fPnh5eREVFZXjbbgfc+fOpVu3bvTt29fm/nWv8uXLU6pUKfbs2QOkHvtRo0YZWc53795l+/bt\n",
              "BAUFcf36dfr06WN8Bn3nnXeMeuz3ib2s7j/3unHjBh9++CFz5swxAmYAjRo1wt/fP92+vn79OiaT\n",
              "yXhtMpkYO3Ys3t7eVKlS5b6yGzO7Nv6KrM6BtCyrjD7DQeafaa9du0bHjh2pWrUqdevWJS4uLtP1\n",
              "Z/W5bcCAARw5cgSz2WwEuDO7p6QF1gIDAzGbzVy4cIFr167Rr18//P398fT0pH///sbni/fee4/q\n",
              "1asb2Xtpbc9KgwYNGDFiBIGBgVSsWDHLYF5m9/bM7kthYWE0bNiQVq1a4erqSr169YzPfO+//z6t\n",
              "WrXCarVy584dfH19H1s2rIjI/7LH3j0zJiaGTZs2cejQIWJiYti8eTO5c+dm4cKFPPvss8TFxREb\n",
              "G2tkHXzxxRfs3buXffv2YbFYOHHiBCEhIQAMHTqU3LlzExsbS0xMDB988AEAkydP5ujRo+zbt4+Y\n",
              "mBjjy/zixYs5cuQIO3fuZP/+/XTt2pWBAwcabdu5cydff/018fHxlC1b1pgeFRXFxIkTWbduHTEx\n",
              "MWzZsoUSJUpw8OBBRo4cybp164iNjSUgIIC+ffsay+3du5cPPviA+Ph4KlasyPPPP09oaCg//fQT\n",
              "uXPnZv78+UbZ8PBwm+DA008/zfjx4xk1alS6fZjVdjRq1IiIiAhSUlKIiYkhISGBq1evsm3bNnx9\n",
              "fXF2dmby5MmMGDECi8XCwYMHjV9TrVYr69evp1mzZsa60j7YmM1mPv30U37++WcmTJjA2rVr2bdv\n",
              "H4sXL6ZLly7cuXOHH374geXLl7Nv3z6io6NtuiFktRykdkPr0aMHFouFF198kSZNmrBr1y4OHDjA\n",
              "ypUr6devH3fu3KFv3774+fkREhKCxWJJ12V03bp1zJ07l+3btxMXF0fevHkZPXq0MX/37t2EhYUR\n",
              "Hx9PiRIlmD17dobnab9+/Vi9ejXVq1enX79+LF26lOTkZAC2b9/OkiVL2LJlC/v37+f999+3CWzs\n",
              "3r2bSZMmERcXR506dbhz547x5evnn3/myJEjtGjRwmZ9ly5dok2bNkyePJmYmBgsFguBgYEkJyfT\n",
              "uXNnPvroI/bu3cuuXbuMa2L9+vVcuXKF+Ph4YmJibIKUmQWb4uPj2blzp9E15fTp0/znP/8x5ru4\n",
              "uBjdQbKa5+vry6pVq7h69Sp3797lm2++sTne964/q3ri4+O5desWwcHBmM1mBg8ezI0bN4yy9tdF\n",
              "diwWC6tXr+ann37i/PnzfPfdd+nK9OrVy6Ybzrx584yAe8+ePXn11VfZs2cPBw4cIDo6muXLlxtl\n",
              "//zzT3bv3s2iRYuYNWsWLVu2JCYmhri4OJugEaQGSyZOnEhQUBAWi4XQ0FD69u1LeHi48YPCvHnz\n",
              "aN26tU0QK83+/fupXbt2uum1a9dm3759BAcH29R/b3eje/Xs2dO418ydO9fY1oz4+Piwbds2Dhw4\n",
              "wNatW5k4cSK//fabMT8uLo41a9Zw5MgRtmzZwuTJk9m4cSNxcXEsWrTICArl1K1btwgPD8fX1xdI\n",
              "/SHEzc2N/fv3M3To0EyPR2bvI/e6cOECvXv35rvvviM2NpZKlSoZXRCzuq7SODs7s2fPHtatW8eQ\n",
              "IUNISkpi3LhxlClThmXLlmGxWHLUBRCgcOHCVK5cmUOHDnHhwgW6dOnC/PnziY2NpX///rRv397o\n",
              "Snb48GF69uxJTEwMgwcPtunOnJCQgKenJ/v27WPWrFk2XQunT59OdHQ0sbGxBAYGZtudP+0Lodls\n",
              "JigoKMMyjRs3Jn/+/JQvX56OHTsya9asdF1pM9pPAKNGjWLv3r1YLBYGDhzIa6+9luE6HnY5e9m9\n",
              "T98rs32f2eeT7EydOpW8efOyZ88eLBaLTeA3s/e4NL/88guRkZHExMTwySefsHbtWrZu3cr27dsZ\n",
              "N25cjrrEZXeu2UsLKri6uuLt7c2UKVNsMm2OHj3Kli1b2Lx5c4bLZ3QuJCYm0rFjR0JCQoiLi6N7\n",
              "9+7ExsZmu9/Szk377vz3uvcc3r17N8nJycyfP58+ffrQvXt3Vq9ebfxoZi8oKMj44W7btm0899xz\n",
              "lChRgpMnT7J3715KlCiBi4sL7777Lnfu3CE2Npbdu3cTHh5uDDuQ1T7J6v5j79ChQ+TOnRtXV9cs\n",
              "90tWTCYTBw4cYP369QwePDhH3dDv59rIqczuB2ky+gyX1WfaiRMn4uzszOHDh/nhhx/YsmVLpuvO\n",
              "6nNbaGiokUmZlvGb2T0lrRvn1q1bsVgslChRguHDhxMYGMiePXuIiYkhJSWFGTNmcPnyZaZNm8b+\n",
              "/fuxWCzs2LGDkiVL5mhfnThxgsjISA4ePMiGDRvSDU2RJrN7e1b3pe3btxvfP1q2bGn8WPfmm29y\n",
              "9+5dPvroI4YNG4afn59Nl/t73blzh6tXr9r8paRkfO8QEfmne+zdMytUqEBSUhJ9+vQhKCiIFi1a\n",
              "4ODgQK1atQgJCTF+XU3LDouIiKBXr144OzsDqW+Kn376KaNGjWLNmjXs3r3b6EZZvHhxANasWcMH\n",
              "H3xgLJM2PTw8nL179xpf0NLeTNM0b948wze7H374ge7duxtdxPLkyQOkpu83bdrUCLANHDiQiRMn\n",
              "GvXWrl3bSKv38/Pj7t27Rv01atTg2LFjQGp2y9WrV6lSpYrNenv16sVHH33Exo0bbaZntR3BwcFE\n",
              "REQYYzqULFmSqKgodu7cSaNGjYDUD4vvvvsux44do2HDhtStWxdIDfJVq1bNpiuGfffMzz77jOPH\n",
              "j1OvXj1jmoODA6dPn2bTpk106NCBAgUKAPDyyy+zbds2ANavX5/pcpB6XtSvX9+Yd/LkSbp27cpv\n",
              "v/2Gk5MTly5d4uTJk9mm80dERNCxY0fjV9lXXnmFF1980ZjftGlTihYtCqQen8x+tXRzc+PEiRNs\n",
              "27aNHTt2MH78eBYsWMAPP/zAypUriYmJoWbNmkb5S5cuGd0KAwICqFq1qjGvd+/ezJs3Dz8/P+bP\n",
              "n0/Xrl3TdTvbuXMnVatWNcaIcXBwoEiRIsTHx3Po0CGbbiLXrl0jPj6ewMBAfvrpJwYOHEj9+vVt\n",
              "AoirVq1i06ZNNuv47bffaN26NaGhoTa/Zv8VvXr14pdffqF+/fo8/fTTBAcH89///jfL9WckKSmJ\n",
              "LVu2EBERQb58+ejduzfjx49n2rRp6a6Le39Zv9e909u2bWtcn/7+/hl2qe3Rowfe3t589NFH/P77\n",
              "7xw9epRmzZpx48YNNm3axPnz542y169ft8lo6dWrl7G+evXqMXLkSK5fv079+vUzDVrdq1ChQrRv\n",
              "3565c+fy+uuv8/nnn9t8AXsUypUrR7ly5VizZo0RsJ48eXKGZf/8809eeukljh49ipOTE3/++ScH\n",
              "Dx40zpfWrVsbX6I9PDxo0qQJuXLlIleuXLi6unLs2DGbjMzMLFq0iB9//BFIHX9o9OjRnD9/nly5\n",
              "ctGtWzeALI9H48aNM3wfudeuXbvw9PQ0voi+9NJLDB48GEgNDmR2XdWoUQPA+CJRrVo1nJycOHfu\n",
              "3ANdN2mBit27d+Ph4WFkoHbt2pVXX33VyPCoVKmScW+pXbs206ZNM+p46qmnaNeunTHv3vN78eLF\n",
              "LFiwgNu3b3P79m2KFSuWZXty0n0vT548xhfHrVu38v333/PBBx8QExNjBHoz208bN25k5syZXLt2\n",
              "jZSUlEyzeh92OXvZvU/fK7N9n9nnk+yEh4eTkJBgBO8TExONcT6ze49r3749jo6OFC5cmAoVKtCy\n",
              "ZUtMJhNly5alePHiRje7rGR1rmV0Ltt3z6xTpw5+fn5GdmG3bt2MzLOMZHQuXLp0CScnJyMwGxQU\n",
              "RMWKFbNs91/tnrl69WpcXFyMfRgcHMzixYt55ZVX0i0bFBTE3Llz6dmzJ0WKFCFfvnzUr1+fqKgo\n",
              "zp49a7Q3IiKCjz76CAcHB/LmzUuPHj3YuHGjMRZYZvskq/vPo5AW7KpQoQL16tVjy5Yt2Y4pm9W1\n",
              "YT+sRGbvv/bz/sp9M6vPtJs2bSIkJASTyUTBggXp0qVLpkNlZPW5LSP3c08JDw9n586dRpbnrVu3\n",
              "cHR0pECBAlSuXJlu3brRuHFjWrRokeP3iY4dO+Lk5ISTkxNms5kTJ05k+ENZZvf2rO5LAQEBRgZ/\n",
              "//79GTt2rHFcFy5ciLe3N4ULF2b37t2Ztm/y5Mk2mZUAJSrlzqS0iMg/2yPLNHN0dLR540sbULNg\n",
              "wYIcPHiQLl26cPjwYTw9PTl+/Di1a9fGYrFQs2ZNvv/+e2rUqJHhh9qs3rizY7VaGTNmDBaLBYvF\n",
              "QlxcnE3QJF++fH+57ozadu8vtI6Ojulep/0Ct3LlygzHVXF0dGTSpEmMHj3a5pfhrLYjODiYTZs2\n",
              "sXHjRoKDg40gWkREhBE0Gzp0KD/88AOlS5fmzTffNH7Ry0lXOKvVynPPPWes22Kx8Pvvv1O5cuUs\n",
              "90d2y9nv+06dOtG3b18OHjyIxWIhX758f2lQ1uyOSdoxaN++fboBsXPnzk3Dhg0ZO3YsP/74I2vX\n",
              "ruXSpUtYrVZ69uxpsy1nz57l6aefznBbevbsyTfffMOtW7f4+uuvc9y1B1L3W5EiRWzWdfLkSXr2\n",
              "7EmFChWIj4+nadOmbN++HXd3dy5fvszRo0cpVKiQTQD4zJkzBAcHM3bsWJsgYvny5W26Epw6dcoI\n",
              "9GY1z2QyMWHCBA4cOMCOHTtwdXU1giX2689uHS1atKBw4cLkypWLzp07s2vXLiD9dVG8ePF0v9T/\n",
              "8ccflChRwnid2fG9V7ly5fDz82PlypXMnz+fbt264eTkZFxju3btMvb18ePHbbpo3ntsX3jhBbZv\n",
              "307VqlWNrLOcGDJkCKGhoaxfv57ixYvj7e3NlStXjPMvrauoj49Phr8879y5M10XubR60+qwDwb3\n",
              "7t2b3r1706lTpyzHahwwYIDRBcZisVClShWb6y6n97Q0GW0XpH6xOnDgAAcOHGD69OnGtZMnTx6j\n",
              "fVkdj8zeR7Jifz/K7LrKbFszG7MoICAAs9lsE0S3d/nyZY4fP467u3uWbcxuvc7OzsZ23Pseu23b\n",
              "NiMb6eDBg3z88cfGcZsyZYpxDDZs2JDlujMqazKZ8Pb2ZsiQIWzatIl8+fLZdK3LqL2nT59m0KBB\n",
              "LFy4kIMHD7J06dIM798Po9zXX39ttPne7mCZyeozRGb7PrPPJxm9b9zLarUyc+ZM4xyLj483uqNl\n",
              "9x6Xk2stIiLCWL/9g0Cyk91+K1euHDVr1rT58SO7z0g5vWbSjkF8fLzRhldfffW+2p+ROXPmcPTo\n",
              "UVxcXHBxcWHr1q1GF037YxUUFMTOnTtZv3698YNd/fr1iYyMJDIykoYNG2bZ9jQ5/dx473L2x83V\n",
              "1ZXExMRMu846OTll+Hk6u/U9yLVhfy8oXrw4169ft3lQ0B9//MFTTz1l/FAKOT8H7pXdZ/PM2ng/\n",
              "n9vs5fTec28bv/vuO6ONR44cYfbs2Tg6OrJr1y5jSIZatWqxdevWHO37nOyrrO7tOf3eZO+XX34h\n",
              "JSWFa9eu2WT22xszZgwJCQk2f8UrKmgmIv9OjyxoVqlSJeMXjO+//964MV+8eJEbN27QuHFjJk2a\n",
              "hIuLC/Hx8Zw8eZJ8+fLRoUMHZs6cydGjR7l+/TrBwcF8/fXXJCYmkpSUxFdffWWMHdGqVSumTZtm\n",
              "DNx/8eJFY/qMGTOMrg5p09u0aUNoaKjxBnr37t0cDWr8/PPPs3DhQmOcs5s3b3Lz5k2CgoJYv369\n",
              "MYZYaGgojRo1ynTg98xkNY5YmzZtcHZ25vvvv7eZltl2lClThoIFCxIaGkpwcDBBQUGsWbOGU6dO\n",
              "GV+0jxw5wrPPPku/fv148803jSDFqlWr0j1pz16TJk2IiIiw6V6RNi5IcHAwy5cv59q1a1itVr74\n",
              "4oscLZeRy5cv8+yzzwKpKej3dgkqUKBApl0ugoOD+eabb7h69SoAs2fPznCsEXvffvut8WGoaNGi\n",
              "bNmyxWZcu3379lGkSBEKFSpEq1atWLhwoZEll5KSYjNGlr0yZcpQo0YNXn/9dUqUKJFhJk5AQADH\n",
              "jh0zBlZO+9WzatWqFChQwOZD1/Hjx7l06ZLxxK+068BqtfLrr7+mC36ePXuWRo0aMWrUKJugAKQG\n",
              "flatWsW5c+ewWq2EhoYa2TdZzbt9+7ZxTP744w+mTJlijNliv/4XX3yRBQsWcOPGDe7cucPcuXON\n",
              "erp06UJkZKRxra5btw4vLy8g/XXRpEkTFixYYGT0HT58mF27dv2lJ7j17t2buXPn8vXXXxvdFfPl\n",
              "y0dQUBBTpkwxyp05c8ame+K9jh07RsmSJenRowcffvihcR3dK6NztVq1alSoUIH+/fszaNAgIDUD\n",
              "Le38W7FiBZCaJRkZGcnixYuNZZcsWUJUVJRNt/I0n3zyiVGH/Th6bdq0YcSIEdkOgnz58mX+85//\n",
              "YDKZ2LJlizFW31+V0XblVFbHI7P3kXvVrl2b2NhY4yltc+fONcagyeq6yo79Md2xYwcWiyXTX+wv\n",
              "XrxInz59CA4OxtXVlVq1ahEXF8fBgwcBWLp0KWXLlrUZEuB+Xb58mfz581O0aFESExNtup2PHj3a\n",
              "OAZNmjTJsh77socPH7a5Z//6669cvHiRChUqZFlPQkICuXLlonTp0litVpvx4h52ubRu/RaLJcMf\n",
              "JB7G+3Rmn0/s3zfstWnThpCQEG7evAmkfnZI68Kc1XtcTgUHBxvrz6gbY1bnWnb7LSEhgX379tlk\n",
              "Tf8VVatW5e7du0Zm6Y8//mgEuF1dXY02fPrppw+0nvPnz7Np0yaOHz/OqVOnOHXqFGfPnjUGhrc/\n",
              "VmXKlOGZZ55h2rRpxsMCAgIC2Lp1Kzt37jQyzYKDg5kzZw5Wq5UbN26wYMGCHH2myOr+Y3/c8uXL\n",
              "x4gRI+jXr5/NmGKRkZHs2bOHUqVKYbVajXtc2hiV90q7l506dYqtW7cSGBj4QNeG/b0gT5481K5d\n",
              "2+aJqp9//jnBwcH3/WO2/T00q8+0wcHBzJs3D6vVytWrV20ejnU/n9vs15ndvSd//vzp2vjBBx8Y\n",
              "ga20H0KuXbvG+fPnCQwM5O2336Zu3bocOHAg232fU1nd2zO7L0Hqj2tp595XX31FUFAQjo6OXL16\n",
              "lU6dOrFgwQIGDBhAjx49Mu2u7ezsTIECBWz+HBz+euKCiMj/skfWPTMkJIQhQ4YwduxYWrRoYXyg\n",
              "/PXXX+nXrx93794lOTmZOnXq0KxZMxYuXMjHH39s/NoydepUChYsSP/+/Tlx4oQR8GnQoIGRth8S\n",
              "EsLrr7+Oh4cHuXLlokaNGnz55ZeMGjWKt956Cx8fH3LlykWZMmVYu3YtXbt2NX5hBIzuPd7e3una\n",
              "nzZ2zYABA6hXrx7jx4+nSZMmmEwmcufOzbfffou7uztTp041UqKfeeaZLB/RnpGrV69y7Ngx/Pz8\n",
              "Mi3zwQcf2HRrzG47goODWbNmjfHFplSpUnh7exsZHLNmzTLGAHJ0dOSjjz7i8OHDFC5c2CZrJyOV\n",
              "KlVi8eLFvPzyy9y8eZPExES8vb1ZvHgxzZs3Z8+ePfj4+FCgQAGbsdGyWi4jM2bMoH379hQqVIiG\n",
              "DRvaPD2qf//+DB8+nJCQECZNmmSzXLNmzTh48CC1a9fGwcEBT09PPvvssyy3KSOnT59m6NCh3L59\n",
              "m9y5c5MvXz5WrlyJg4MDgYGBfPjhh7Rt29YYs6VFixZZHsPevXvToUMHm4cu3Ktw4cKsWLGC4cOH\n",
              "c+3aNRwcHHj33Xd5/vnnWbNmDUOHDiUkJITk5GSKFSvG4sWLiYuLY8yYMVitVpKSkujevTuenp68\n",
              "/PLLNoPyjxs3jtOnTzNjxgxmzJgBwGuvvUbv3r2pUKEC77zzDnXq1AFSr6+XX34ZIMt5CQkJNGjQ\n",
              "AAcHB1JSUnjttdd4/vnngdRg173rb9CgAR07djQCOR07djSysgICAmjVqhXe3t44Ojri5uZGaGho\n",
              "htdF7969+fXXX6lZsyYODg7kzp2bBQsW/KUuc61bt+aVV16hcuXKRhcGSO02OGzYMNzd3TGZTOTN\n",
              "m5fZs2dnuI5vv/2WhQsXkjt3blJSUjJ8nH2jRo2YNm0anp6eBAQEGGX69evHoEGDaN++faZtLFu2\n",
              "LFFRUYwYMYKxY8diMpmoWrUqP/74430/TdTZ2TnD8RHtTZkyhYEDB/Luu+9mmz31OGR2PJKTkzN8\n",
              "H7n3C2fx4sWZO3cubdu2JXfu3DZds52cnDK9rrIzZMgQ+vXrR548eQgLC8uwi1xkZCTe3t7cunUL\n",
              "Z2dn2rZta+z/4sWLs2jRInr06EFSUhKFCxdm+fLlD5RF3bRpUxYuXEjVqlUpWrQowcHB2Q7oHRgY\n",
              "aBM4WrZsWboAyc2bN3n99dc5d+4cTz/9NFar1chAyYqHhwedOnXCzc2NokWLZprB/LDLpUlKSjKy\n",
              "OB7G+3RUVFSGn0+yM2rUKO7cuUPNmjWN4ztq1Cjc3NyyfI97WO73XEsb0wxSxzPq1q3bAz9d1NnZ\n",
              "maVLl/Lqq6+SkpKCr68vVatWve8ne2Zn/vz5NG7c2KZeBwcHOnXqxJw5c/jkk0/SLRMUFMScOXOM\n",
              "ISry5s1LqVKlcHZ2pkyZMgC8/fbbDBkyxHj/evHFF+nQoUO27cnq/pORiRMnUqxYMZo0aUJycjIm\n",
              "kwmz2cwHH3yAk5MTM2fOpGXLlhQtWjTD943k5GS8vb25ceMGn3zySbZdM+H+r40FCxYwZMgQvvji\n",
              "C6xWK1WqVLH5cTSn7D/DZfWZ9u2336Zv375Uq1aN4sWLU7duXZux/+6V1ec2T09P3NzccHd3p0KF\n",
              "CqxatSrLe8rw4cN57rnnyJMnD//9738JCQlh9OjRmM1mHBwccHJy4sMPP+Spp56iffv23LhxA5PJ\n",
              "ROXKldP9OHm/Vq1axapVq/jqq6+yvLdndV8KCAhg1KhRHD9+nKJFixqB1pdeeomuXbsSFBREgwYN\n",
              "2LJlCx9++GGOPh+IiPybmayZ/cQgj8XSpUvZtm1bpr+wPy5TpkzBycmJESNGPNF2yIM5e/YsTZo0\n",
              "yXag5b/7+v8u18WjMmjQIEqWLMnbb7/9pJsi8o8zdepU4uLiMszIkcfv2rVrxlipe/fupVWrVpw4\n",
              "ccIYf1IejMlk4vLlyw89ECn/m8LCwggPD8/RE6zvl2fzAtTuXvih1ysi8qBmd87+ycUPQkEzEZHH\n",
              "5MyZMzRs2JAiRYqwYcMGm4duiMiDq1+/Prdv32bBggXpHq4jT0ZYWBghISFYrVYjQycnD06RnFHQ\n",
              "TO6loJmI/BspaCYiIiIiIiJPjIJmIvJ39aiDZo/sQQAiIiIiIiIiIiL/qxQ0ExERERERERERsfPI\n",
              "np4pIiIiIiIi//uCq/Xl484fP+lmiIg8dso0ExERERERERERsaOgmYiIiIiIiIiIiB0FzURERERE\n",
              "REREROwoaCYiIiIiIiIiImJHQTMRERERERERERE7CpqJiIiIiIiIiIjYUdBMRERERERERETEjoJm\n",
              "IiIiIiIiIiIidhQ0ExERERERERERsaOgmYiIiIiIiIiIiB0FzUREREREREREROwoaCYiIiIiIiIi\n",
              "ImJHQTMRERERERERERE7CpqJiIiIiIiIiIjYUdBMRERERERERETEjoJmIiIiIiIiIiIidhQ0ExER\n",
              "ERERERERsaOgmYiIiIiIiIiIiB2nJ90AERERERER+fu6MT+ac+unPulmiIikUyp+5COtX5lmIiIi\n",
              "IiIiIiIidhQ0ExERERERERERsaOgmYiIiIiIiIiIiB0FzUREREREREREROwoaCYiIiIij53ZbOba\n",
              "tWvZlnNxccFisTz6BmWiZcuW7N69O930ESNGMGHCBABCQ0OZOvXhDpI+YcIEbt++/VDrTHP37l1c\n",
              "XFxITEx8JPVnJioqCrPZnOPygwYNYtmyZYSFhVGwYEHMZjPu7u4EBQVx9OjRbJdftWoVr7/++gO0\n",
              "OGfSzpEJEyZQvHhxzGYzXl5e1KhRgx07djzy9ae5fv06JpPJeJ3Ta0xERDKnoJmIiIiIPHYWi4X8\n",
              "+fM/6WZk6fr16/z000/4+/tnWW7AgAGMHJnx07uSk5P/0rrfeeedvxQ0S0pKyrZMVFQUtWvXJnfu\n",
              "3H+laY+F1Wpl3bp1NG/eHICgoCAsFgsHDx7E19eXoUOHZltHq1atCAkJeaTttD9HunbtisViISYm\n",
              "huHDh/Paa6890vVn5X/hGhMR+btT0ExEREREHgmTycTYsWPx9vamSpUqLFq0yGbelStXgNRsspEj\n",
              "R+Lr60ulSpVynLX1ww8/UKNGDby8vDCbzUZG2IYNG/Dx8cHT05P69esTHx8PpAaL3N3deeWVV/D0\n",
              "9MTDw4PY2Fh69eqFh4cHNWvW5PfffzfqX7duHU2aNMFkMnH27FmaNGmCq6srwcHB/Pbbb0a5CRMm\n",
              "GEGcsLAwgoKCeOGFF/Dw8GDPnj3s3buXhg0b4ufnh7e3N8uXL89yGwYMGABAYGAgZrOZCxcucOHC\n",
              "Bdq1a4eHhwfu7u7Mnj3bqMPFxYVRo0bh7+9Pz549admyJYsXLzbm//e//6VmzZrG6/DwcNq2bZvt\n",
              "vj927BgtWrSgRo0aeHp6MmvWLGNedvu4R48euLu74+vrm2mm4IYNG6hbty6+vr74+/sTGRlpzIuO\n",
              "jqZq1aoZBn0aNWrEL7/8YrxesGABNWvWxMfHh3r16hETE2McizZt2mRbLi4ujrp16+Lj44Orqyvv\n",
              "vfeezbHt2LEjzz//PK6urjRs2JBLly4Z8+89R+wlJCRQuHBh43Vm50FSUhJNmjTBz88PNzc3unTp\n",
              "wo0bN4z9eW923sGDB3FxcTFez549m8qVK+Pt7Z0uQGh/jY0bN47atWvz7LPP2myjiIhkzulJN0BE\n",
              "RERE/rlMJhMHDhzg559/xs/Pjzp16th86U9z/vx5oqOj+fPPP/Hx8aFOnToEBARkWu/Ro0fp3bs3\n",
              "W7ZsoVq1aty9e5ebN29y4cIFunTpQlRUFB4eHixatIj27dtz6NAhAA4fPsz8+fP5/PPPefvtt2nY\n",
              "sCHbtm2jWrVqvPrqq0yfPt0IHK1YsYJevXoBMGTIEPz9/dmwYQO///47ZrOZatWqZdi23bt3c+DA\n",
              "AapWrcqVK1cICgpi7dq1lC5dmj/++AMfHx8CAgK4ceNGhtsQGhrK7Nmz2bp1K4UKFQKgY8eOVK1a\n",
              "le+//54LFy7g6+uLl5cXtWrVAuDPP/9k9+7dmEwmNm7cyPjx4+nSpQsAn376KYMGDQJSM7jWr1/P\n",
              "lClTstz3NWvWpHPnzixcuJBq1apx8+ZNatWqRc2aNfnPf/6T5T4+dOgQM2bM4Ouvv+abb76hU6dO\n",
              "/PTTTzb76Oeff2bChAls2LCBAgUKcPz4cQIDAzl16hTOzs6sWLHCJuCVJiUlhRUrVtCpUycAtm/f\n",
              "zpIlS9iyZQvOzs5s3bqVLl26GG1Jk1U5FxcXNm3ahLOzM7du3SIgIIDg4GBj3+7evZt9+/ZRtGhR\n",
              "OnXqxOzZsxkzZky6cwRg0aJFREVFkZCQwNWrV9mwYQMAV65coX///hmeB2XKlGHx4sUULVoUq9XK\n",
              "wIEDmTlzJqNHj87w/Epz8OBBxo8fz4EDByhdujRvvvlmluWvXLnCzp07+eOPP6hYsSK9e/embNmy\n",
              "6crduXOHO3fu2ExLtqZkWbeIyD+VgmYiIiIi8sj07dsXgAoVKlCvXj22bNmSYdDspZdewmQyUaxY\n",
              "Mdq1a0dERESWQbONGzfStGlTI3CVK1cuChYsyOrVq/Hw8MDDwwNI7S736quvGhlklSpVwtfXFwA/\n",
              "Pz8qVapk1OHv78+KFSuA1HG/duzYwfz58wHYtGkT06ZNA6Bs2bK0atUq07YFBARQtWpVAHbs2MHP\n",
              "P/9Ms2bNbMocOXKEn376KcNtyEhERAT79u0DoESJEsY+Sgvs9OrVy8h2eu655xg6dCgHDhygSJEi\n",
              "7Nmzh2+++QZIzXaqVq2aTQZXRvu+UKFCHDp0yAhOAVy7do34+HjOnTuX5T52cXGhUaNGAHTo0IH+\n",
              "/fvz66+/2mzP+vXrOX78OPXq1TOmOTg4cPr0aSpXrsyqVavYtGmTMS8yMhKz2czp06cpUqSIkVW4\n",
              "cuVKYmJibDLpLl26xK1bt2zWl1W5W7duMXDgQCwWCw4ODvz6669YLBZj3zZt2pSiRYsCULt2beLi\n",
              "4oD050javpg+fTqQes60a9eOI0eOZHkelC5dmpCQEH744QeSkpJISEjI8txPs3nzZpo1a0bp0qUB\n",
              "eOWVV5g8eXKm5dOCqMWKFaNChQqcPHkyw6DZ5MmTeeedd2ym+T5VPtv2iIj8EyloJiIiIiKPTUbd\n",
              "2B6k3P166qmnjP8dHR3TvU4bE2zz5s3UqVOHXLly3Xf78uXLZ/xvtVpxc3PLcEB4++yr+2G//nvX\n",
              "CamZcTNnzqRkyZL06dMHZ2dngEwzuOzrtlqtFClSJMOulatXr77vttq312q18txzz9l0I01z9OhR\n",
              "ChUqRMmSJY1pQUFBhIeHc/PmTdq3b8/AgQNZtmwZVquVnj17MmnSpCzbkFW5wYMHU6xYMQ4cOICT\n",
              "kxPt2rWzGU/ur54jjRo14vbt2xw8eDDL82DhwoVs3ryZH3/8kQIFCvDJJ5+wefNmAJycnGzGxctq\n",
              "nLvsrpnMtsPemDFjGDZsmM20YS7Ns6xbROSfSmOaiYiIiMgjM2/ePABOnTrF1q1bCQwMzLBcWFgY\n",
              "kJr9s2LFCiNTKTNNmjRhw4YNHD58GEjN+klISKBWrVrExcVx8OBBAJYuXUrZsmUzzKjJyr3jfgEE\n",
              "Bwczd+5cAM6ePcuqVatyVE9AQAAnT54kIiLCmGaxWEhMTMx0GwDy589v/J+2/i+//BKAixcv8v33\n",
              "3/Pcc89lut7u3buzYcMG5s2bZ4yRBqlPlGzdurVN2Yz2fdWqVSlQoIBx/ACOHz/OpUuXst3Hp06d\n",
              "MsYn+/bbbylZsiTlypWzWWeTJk2IiIggNjbWmLZnzx4g68Benjx5+Oqrr1i7di0HDhygVatWLFy4\n",
              "kNOnTwOp3Tejo6PTLZdVucuXL1OuXDmcnJw4cuQIGzduzHS/3sv+HLEXExPD9evXcXFxyfI8uHz5\n",
              "MsWKFaNAgQJcu3bNOB6QmqH5yy+/cPHiRSB1XLY0DRs2ZP369Zw7dw5IfYrrw+Ds7EyBAgVs/hxN\n",
              "+tooIv9OyjQTERERkUcmOTkZb29vbty4wSeffJJh10yA4sWL4+vrS0JCAoMGDcqwe1poaChnzpxh\n",
              "4sSJVKpUiXnz5tGtWzfu3r2Lo6MjoaGh+Pv7s2jRInr06EFSUhKFCxdm+fLl95W5ZrVa2bBhg82g\n",
              "+DNmzKBXr164urpStmxZGjZsmKO6ChcuzA8//MCIESMYPnw4d+/epXz58oSHh2e5DcOHD+e5554j\n",
              "T548/Pe//+WTTz7hlVdewcPDA6vVyltvvWXT1dBenjx5aNeuHWfOnOGZZ54BUsdzK1y4MCVKlLAp\n",
              "m9m+X7NmDUOHDiUkJITk5GSKFSvG4sWLKVu2bJb72M3NjbCwMIYMGULu3LlZsmRJuv1fqVIlFi9e\n",
              "zMsvv8zNmzdJTEzE29ubxYsXEx4ebhMcslemTBlGjBjBuHHjWL16NR9++CFt27YlKSmJxMREWrRo\n",
              "gZ+fH/D/2VeBgYGZlhs7dizdu3dn/vz5VKxYMUfHNqNzBP5/TDOr1YrJZGLBggUUL14cINPzoEeP\n",
              "HqxcuZKqVatSvHhxAgMDjQcdlClThjfeeAN/f39Klixp073T3d2dCRMmEBgYSL58+WjXrl227RYR\n",
              "kftjslqt1ifdCBERERH55zGZTFy+fNkYzD4zLi4uhIeH2zwl8EnatWsX7733HmvWrHnSTfnLkpOT\n",
              "8fX1ZebMmUZ235QpU3BycmLEiBFGuYe976Oiohg6dGimT8zMTtpTSu/NQPurPvzwQ44dO2Zk6D1M\n",
              "/4Rz5H68XLQe75R8/kk3Q0QknVLxIx9p/co0ExERERG5R61atf6ngyGrVq1iyJAhNGvWzKY7bHZP\n",
              "Y/w7KF269EMJmL311lusWLGCRYsWPYRWpfe/fo6IiEjOKNNMREREREREMqVMMxH5u3rUmWYa0VFE\n",
              "RERERERERMSOgmYiIiIiIiIiIiJ2NKaZiIiIiIiIZCpvTz9Kffxou0CJiPwdKdNMRERERERERETE\n",
              "joJmIiIiIiIiIiIidhQ0ExERERERERERsaOgmYiIiIiIiIiIiB0FzUREREREREREROwoaCYiIiIi\n",
              "IiIiImJHQTMRERERERERERE7CpqJiIiIiIiIiIjYUdBMRERERERERETEjoJmIiIiIiIiIiIidhQ0\n",
              "ExERERERERERsaOgmYiIiIiIiIiIiB0FzUREREREREREROwoaCYiIiIiIiIiImJHQTMRERERERER\n",
              "ERE79x00S0xMNP7/+eefWbNmDcnJyQ+1USIiIiIiIiIiIk/SfQfN6tSpw7Vr1/jzzz8JDAxk8uTJ\n",
              "vPrqq4+ibSIiIiIiIiIiIk/EfQfNkpKSyJ8/Pz/88AM9e/Zk+/btbN++/VG0TURERERERERE5Ilw\n",
              "ut8F0rpnRkVF0aVLFwAcHR0fbqtERERERETkb2FL1M+88fqaJ90MEZF0Pgxp+Ujrv++gWVBQEK6u\n",
              "riQnJzN79mwuX76Mk9N9VyMiIiIiIiIiIvK3dd/RrpkzZxITE0OFChXIlSsXycnJfPXVV4+ibSIi\n",
              "IiIiIiIiIk/EfQfNTCYTZrPZeF2sWDF8fHw4ffr0w2yXiIiIiIiIiIjIE3PfDwLIiNVqfRjViIiI\n",
              "iIiIiIiI/C08lKCZyWR6GNWIiIiIiIiIiIj8LeQ4aHb16tVM/5RpJiIiIiL/BitXrqR69eqYzWbi\n",
              "4uIeSp0uLi5YLJaHUtffzbfffssrr7ySZZlx48axaNGih7peT09Pzp49+0B1XLhwATc3NyA1SeDK\n",
              "lSv3tXxUVJTNsDYPonnz5hw5cuS+l3sU+1ZE5N8kx2OaFSpUCJPJZBMgS3utTDMRERER+TcIDQ1l\n",
              "3LhxdO7c2WZ6UlKSniifgRUrVtCjR48sy0ycOPGhrvP48ePky5eP0qVLP1A9K1eupFWrVg+pVQ9m\n",
              "7dq1GU7P7rx72PtWROTfJseZZikpKSQnJ5OSkmL8pb1OTk5+lG0UEREREXnihgwZwtatW3nzzTcJ\n",
              "CAjAZDIxfvx4atSowZgxY7h27Rr9+vXD398fT09P+vfvT2JiIgDnzp2jQ4cO+Pv74+HhwdixY23q\n",
              "XrRoEb6+vlSqVImpU6ca00eMGEGNGjUwm83Uq1fPyDa6desWHTt2xNXVFS8vLxo3bmwss2DBAmrW\n",
              "rImPjw/16tUjJiYmw+35/fffad++PR4eHnh6evL2228DqRlW7dq1w8PDA3d3d2bPnm0s4+Liwtix\n",
              "YwkICOCZZ54hNDSUefPmUbt2bVxcXFi6dKlR9u7du2zfvp2GDRvy3HPP8e233xrzoqKi8Pb2BqBX\n",
              "r15Mnz7dWGb06NH4+/tjNpvp0KEDly9f5saNGxQpUoS7d+8C4O/vT5cuXQA4ffo0FStWNOpesWIF\n",
              "bdq0yXa/u7i4MG7cOGrXrs2zzz7Le++9Z7N/wsPDadu2rfF62rRpeHt7U6VKFZvsrQ0bNuDj44On\n",
              "pyf169cnPj7emJeUlESPHj1wd3fH19c324zCr776CldXV8xmMx4eHuzevdtoa9qyDRo0YMiQIdSu\n",
              "XZvGjRuTnJzMyJEjcXd3x93dncGDBxvn3b37dvXq1Xh6emI2m3F3d2flypUZtuHOnTvpexalpGTZ\n",
              "bhGRf6qHMqbZihUrHkY1IiIiIiJ/W5988gl+fn6EhISwY8cOABwdHdm7dy9Tp05l+PDhBAYGsmfP\n",
              "HmJiYkhJSWHGjBkA9OzZk1dffZU9e/Zw4MABoqOjWb58uVH3+fPniY6OZteuXcycOdOof9SoUezd\n",
              "uxeLxcLAgQN57bXXAFi/fj1XrlwhPj6emJgYI1i1fft2lixZwpYtW9i/fz/vv/++EVyy161bN3x9\n",
              "fYmLiyM2NpYhQ4YAMHjwYKpWrUpcXBybN2/mvffeY9euXcZyN27cYMeOHURGRvL666/z+++/s3Pn\n",
              "TpYvX87gwYONcpGRkQQEBJArVy569+5NWFiYMW/evHn06dMnXZumTp1K3rx52bNnDxaLxQh05c2b\n",
              "F3d3d3bu3Mnly5dJTExk7969WK1WNm7cSKNGjYw6wsPDjaBZdvv9ypUr7Ny50ziGv//+OwDXrl3j\n",
              "8OHD1KhRwyhrMpk4cOAA69evZ/DgwZw6dYoLFy7QpUsX5s+fT2xsLP3796d9+/ZG75xDhw7Rs2dP\n",
              "Dh48yKhRo+jUqVOWQ9sMHz6cTZs2YbFY2L9/v9E91N7Ro0fZsmULmzdv5osvvmDv3r3s27cPi8XC\n",
              "iRMnCAkJSbfM2LFjmT17NhaLhdjYWOrXr59h3ZMnT6ZgwYI2f2fPH820zSIi/2T3lUP+7bff8ssv\n",
              "v9CyZUuqVq3Khg0bGDNmDDdv3rT5FUZERERE5N/g3sBPeHg4O3fu5OOPPwZSs8EcHR25ceMGmzZt\n",
              "4vz580bZ69ev24xR9dJLL2EymShWrBjt2rUjIiKCgIAANm7cyMyZM7l27RopKSlcunQJAC8vL376\n",
              "6ScGDhxI/fr1ad68OZDapTAmJoaaNWsadV+6dIlbt27x9NNP26x/27ZtbNiwwZhWvHhxACIiIti3\n",
              "bx8AJUqUMNpTq1YtADp27AhApUqVeOqpp2jfvj0Afn5+XLp0iStXrlCoUCGbTK22bdsyZMgQzp49\n",
              "S/78+VmzZo2xn+4VHh5OQkIC3333HQCJiYm4uLgAEBwcTEREBBcvXqRx48b89NNPxMXFERERYZNZ\n",
              "dvXqVapUqZKj/Z4WUCxWrBgVKlTg5MmTlC1blnXr1tG0aVObYWj69u0LQIUKFahXrx5btmyhcOHC\n",
              "eHh44OHhAUDXrl159dVXjeCbi4uLEdDr0KED/fv359dff6V8+fLpth2gUaNGdO/eneeff55mzZpR\n",
              "pUqVDMt169aNXLlyGcerV69eODs7A9CvXz8+/fRTRo0ala7u1157jfbt29O4ceNMx1sbM2YMw4YN\n",
              "s5kWVK9bhmVFRP7pchw0GzZsGCtXrqRGjRrMmTOHZs2aMWfOHN59991sB/cUEREREfknypcvn/G/\n",
              "1Wrlu+++SxfouH79OgC7du3iqaeeylG9JpOJ06dPM2jQIPbu3UvFihWJjY2lXr16QGrgJj4+ns2b\n",
              "NxMREcEbb7yBxWLBarXSs2dPJk2a9JC2kHTjF9+7DY6OjsZrk8mEyWQiKSkJq9XKhg0b+PDDDwF4\n",
              "+umnefHFF1mwYAHFixenYcOGFC1aNN26rFYrM2fOtOlumiY4OJgRI0Zw8eJF2rZtS9myZdm4cSOR\n",
              "kZF88skngO04ZGkZXVntd/ttSUpKAlJ70mSUCZfVfsmJtH2Ume+++459+/YRFRVF8+bNee+99+jU\n",
              "qVO6cveedzlt18cff8yhQ4eIjIykZ8+edO3alTfeeCNdOWdnZyMAZ9Tp8FA6KImI/M/J8d1v3bp1\n",
              "WCwWli5dyqZNm5g1axZbt25l8ODBGvRURERERP712rRpwwcffGAEXi5fvmwMSh8UFMSUKVOMsmfO\n",
              "nOG3334zXqd1Xbx06RIrVqygUaNGJCQkkCtXLkqXLo3VamXWrFlG+d9++w2TyUSrVq2YNm0aVquV\n",
              "X3/9lVatWrFw4UJOnz4NpI5LHB0dna6t+fLlo169enz00UfGtIsXLwKpwakvv/zSmPb999/z3HPP\n",
              "3de+2LNnD9WrV7cJ7vTu3Zt58+YRFhaWaUCqTZs2hISEcPPmTQBu3rzJoUOHgNRxzI4cOcLGjRsJ\n",
              "DAwkODiYmTNnUqpUKSNL7t7stpzs94wkJiayc+dOGjRoYDN93rx5AJw6dYqtW7cSGBhIrVq1iIuL\n",
              "4+DBgwAsXbqUsmXLUrZsWaNsZGQkkNprp2TJkpQrVy7D9SYlJXHixAn8/PwYMWIE7du3Z8+ePVm2\n",
              "FVKP19dff01iYiJJSUl89dVXGQYdDx8+jJubG4MGDeKVV16x6XIrIiIZy3G06+mnnyZ//vwAlC5d\n",
              "mipVqhhpyCIiIiIi/3YhISGMHj0as9mMg4MDTk5OfPjhh1SqVIlFixYxbNgw3N3dMZlM5M2bl9mz\n",
              "ZxsBlOLFi+Pr60tCQgKDBg0iICAAgE6dOuHm5kbRokWNLogAcXFxjBkzBqvVSlJSEt27d8fT0xOA\n",
              "Dz/8kLZt25KUlERiYiItWrTAz8+PM2fO0Lx5c2NA+QULFjB48GDc3NzIlSsXrVu35p133uGTTz7h\n",
              "lVdewcPDA6vVyltvvWXT3TMn7h2MP42/vz+Ojo4cP348w6AOpI7hdufOHWrWrGlkTI0aNQo3Nzec\n",
              "nJyoU6cO169f5+mnn8bNzY27d+8a3R+vXr3KsWPH8PPzM+rLbr9nZPPmzdStW9fo/pgmOTkZb29v\n",
              "bty4wSeffGJ0G120aBE9evQgKSmJwoULs3z5cqPtbm5uhIWFMWTIEHLnzs2SJUsyzQRLTk6mT58+\n",
              "XLp0CScnJ4oXL24E6rLSv39/Tpw4gY+PD5D6oIChQ4emK/fmm29y5MgRcufOTZ48efj888+zrVtE\n",
              "5N/OZM1qJMp7VKhQwXjyCsDrr79uM8Dk3+VxzCIiIiIi8mS5ubkRGRlJiRIlHts6ly5dyrZt22wy\n",
              "8v6KAQMGEBwcbIzVJuDn04aG9fs+6WaIiKTzYUjLR1p/joNmDRo0yPRXEZPJxObNmx9qw0RERERE\n",
              "ROTJU9BMRP6uHnXQLMfdM6Oioh5hM0RERERERP751q5dy5tvvplu+pgxY4wnk4qIyN9DjoNmsbGx\n",
              "Nq9NJhMlSpSgZMmSD71RIiIiIiIi/0TNmzenefPmT7oZIiKSAzkOmrVu3TrdtD/++IOKFSuyfPly\n",
              "Kleu/FAbJiIiIiIiIk9evQYV+PDjR9sFSkTk7yjHQbOTJ09mOP3rr7/mtddeY+3atQ+tUSIiIiIi\n",
              "IiIiIk+Sw4NW0KNHD86dO/cw2iIiIiIiIiIiIvK38MBBM4Dk5OSHUY2IiIiIiIiIiMjfQo67Z169\n",
              "ejXdtD///JPZs2fj5eX1UBslIiIiIiIiIiLyJOU4aFaoUCFMJhNWqxVIfXpm8eLFadKkCdOnT39U\n",
              "7RMREREREREREXnschw0S0lJeZTtEBERERERERER+dt4KGOaiYiIiIiIiIiI/JMoaCYiIiIiIiIi\n",
              "ImJHQTMRERERERERERE7CpqJiIiIiIiIiIjYUdBMRERERERERETEjoJmIiIiIiIiIiIidhQ0ExER\n",
              "ERERERERsaOgmYiIiIiIiIiIiB0FzUREREREREREROwoaCYiIiIiIiIiImJHQTMRERERERERERE7\n",
              "CpqJiIiIiIiIiIjYMVmtVuuTboSIiIiIiIj8PfV2MzGmhvItROTvp0pY8iOtX3c+ERERERERERER\n",
              "OwqaiYiIiIiIiIiI2FHQTERERERERERExI6CZiIiIiIiIiIiInYUNBMRERF5hFauXEn16tUxm82Y\n",
              "TCauXLkCQPPmzTly5EiWy/bq1Yvp06c/+kb+BdOmTeODDz7IskxYWBht2rS577qjoqJYv379X2zZ\n",
              "/7t79y4uLi4kJiYyffp0zp0798B1PmwuLi5YLJZM57ds2ZLdu3f/pbonTJjA7du3c1Q2OjqaZs2a\n",
              "ERcXh9lsNv5cXFwoUqQIALdv36ZNmzZUqVIFLy8vnnvuOY4fP27UMWnSJKpWrYqDgwPh4eE29Tdo\n",
              "0IBnn33WqDckJMSYV7NmTWO6u7s7JpOJ2NhYY/5nn31G9erV8fDwwMvLy9imuXPn4uHhgZOTU7rr\n",
              "5ObNm3Tu3JlKlSpRpUoVvv32W2PeW2+9hYeHh7HOpUuX5mheVm158803qVatGl5eXvj5+bFhwwZj\n",
              "mZSUFAYPHkzFihWpVKkSs2bNMuadP3+edu3a4enpSfXq1W22Y+nSpcY+cXd356OPPrKpc8SIEbi7\n",
              "u1OtWjVeeuklEhMTAdiwYYPNMSxTpgw+Pj4225GT61dERMDpSTdARERE5J8sNDSUcePG0blzZ0wm\n",
              "kzF97dq1D20dSUlJODk93o914eHhzJkz55HUHRUVxZUrV2jatOkD11O7dm1y587N9OnTadCgAaVK\n",
              "lXpIrXz0rl+/zk8//YS/v/9fWv6dd95h6NChPPXUU9mWXbFiBW3atMHDw8MmiDdo0CCb87Z///40\n",
              "a9YMk8nErFmz6Nu3L1FRUQAEBwfTqVMn+vTpk+E6QkJCMgyi3hsU/Pbbb3nnnXfw9PQEUoPOixYt\n",
              "YteuXRQsWJCLFy+SK1cuAHx9ffnmm2+YPHlyujqnTZuGs7Mzx48f5+TJk9SsWZOgoCCKFi3KyJEj\n",
              "ef/99wH4/fffqV69OsHBwRQrVizLeVm1JTAwkLfffpunn36amJgY6tWrx5kzZ8ibNy8LFy4kPj6e\n",
              "o0ePkpCQgLe3N0FBQbi5uTFs2DBcXV35/vvvuXHjBnXq1KFOnTrUqFGDZ555hvXr11OqVCkSEhLw\n",
              "9fXF19eXBg0aMGfOHPbv38/+/fvJlSsX/fv3Z8aMGYwcOZImTZrQpEkTY1+0bNmSoKAgm/3zKK9f\n",
              "EZF/EmWaiYiIiDwiQ4YMYevWrbz55psEBATYzLs3w+j333+nffv2eHh44Onpydtvv52urq1bt+Lq\n",
              "6kp0dDSnTp2iUKFCjBo1Ch8fH5vMFYCffvqJJk2a4OnpiaenJ6GhoQAcP36c4OBgPD09MZvNNtlA\n",
              "JpOJ999/n5o1a+Li4kJ4eDiTJ0/Gz8+PypUrG4ERSM2OuXLlClWrViUsLIyGDRvSqlUrXF1dqVev\n",
              "HqdOnTLKXr9+nc6dO+Ph4YGfnx8///yzMW/q1Km4ubnh4eFB165dSUhIwGKxEBoayqJFizCbzUyc\n",
              "OBGABQsWGNvTokULfv/9dwB27dqFr6+vkZHz+eefG/WHh4fTtm1bJk6cyJkzZ+jYsSNmsxmLxcLd\n",
              "u3cZPXo0/v7+mM1mOnTowOXLl4HUDL+XX36ZRo0aUaVKFdq1a2dk8WS23JkzZyhZsiQ3b9401t+l\n",
              "SxejPTt37qRu3bp4eXnh6enJypUr0x3jmTNnUqdOHS5evAjAunXraNKkCSaTia+++gpXV1fMZjMe\n",
              "Hh5GoOnYsWO0aNGCGjVq4OnpaZwLAwYMAFKDOWazmQsXLmRaB8CqVato3bq1TXtu377NokWLeOml\n",
              "lwB46qmnaN68uRFEq1Wrls2x9vf3p0KFCum2637MmTPHWB+kniPjx4+nYMGCABQvXhxHR0cAvLy8\n",
              "qF69Og4O6b/SLFu2zNgHzz77LA0aNGDFihUAFCpUyCh3/fp1rFYrKSkp2c7Lqi3NmjXj6aefBsDD\n",
              "wwOr1Wocx2XLltGvXz8cHR0pUqQIHTt2ZMmSJQDExMTQvHlzAPLmzUu9evVYsGABAHXq1DGCvAUL\n",
              "FqRatWrG/o6JiSE4OJjcuXNjMplo1qyZsdy9zpw5w6ZNm+jevbsx7d7rV0REsqagmYiIiMgj8skn\n",
              "n+Dn50dISAg7duzItFy3bt3w9fUlLi6O2NhYhgwZYjN/2bJlDB48mB9++AE/Pz8AEhIScHNzY//+\n",
              "/QwdOtQom5SUROvWrenVqxexsbHExsbSvn17ALp27cqLL75IbGwsy5cv56WXXuKXX34xls2XLx+7\n",
              "d+9mzpw5dOvWjdKlSxMdHc2kSZMYOXKkUW7lypW0atXKeL19+3Y++OAD4uPjadmyJf379zfm7d27\n",
              "l0mTJhEXF0dwcLDRJWzdunXMnTuX7du3ExcXR968eRk9ejRms5kBAwbQtWtXLBYL48aN4+DBg4wc\n",
              "OZJ169YRGxtLQEAAffv2BWDy5MmMGDECi8XCwYMH6dSpEwBWq5X169fTrFkzxo0bR5kyZVi2bBkW\n",
              "iwWz2czUqVPJmzcve/bswWKx4OHhwdixY412WywWVq9ezU8//cT58+f57rvvADJdrkyZMgQHB7Nw\n",
              "4UIgNTARERFB9+7duXTpEm3atGHy5MnExMRgsVgIDAw01pWSksKwYcPYvHkzERERFC9eHPj/7C+A\n",
              "4cOHs2nTJiwWC/v378fNzY3k5GQ6d+7MRx99xN69e9m1axdffPEFe/fuNQKlW7duxWKxUKJEiQzr\n",
              "gNTAW4ECBdJl4X3//fdUqFABs9mc4Xk7Y8aMdIG2rIwePRoPDw86duxoEzxN8+uvv/Ljjz/SrVs3\n",
              "Y1p8fDzR0dHUqVMHPz8/Pvnkkxyt6/Tp0/znP/8xXru4uHD69Gnj9SeffELVqlXx8fHhiy++oESJ\n",
              "EtnOy2lb5s2bR4UKFYz1Z9UWX19fFi9eTEpKChcvXmTDhg02gch798POnTsJDg42llu1ahVXr17l\n",
              "7t27fPPNNxkuFxYWRvPmzW22z/76tXfnzh2uXr1q85eckmlxEZF/NAXNRERERJ6g69evs23bNoYP\n",
              "H25MSwuaQGqG1UcffURkZCTPPvusMT1Xrlw2wYU0R44c4fbt23Tu3NmYVqxYMa5du8b+/fuNLJ7K\n",
              "lStTt25dtm7dapTr2LEjAH5+fty4ccMIQPn7+3Ps2DGjXFoGV5qAgACqV68OpHbfi4qKIjk5GYDa\n",
              "tWsb7a5duzYnTpwAICIigo4dOxqZPa+88gobN27McB9FRkbStGlTypYtC8DAgQPZvHkzycnJBAUF\n",
              "8e677zJx4kS2bdtG4cKFgdRgXbVq1cifP3+GdYaHh7Nw4UJj3KclS5Zw8uRJY37btm3JkycPjo6O\n",
              "+Pv7G+3OarnXXnuNTz/9FIAvv/ySzp07ky9fPnbu3EnVqlWNQJmDg4MxTljaPrt27Rrfffedka10\n",
              "9+5dduzYYXSra9SoEd27d2fGjBmcPHmSfPnyceTIEQ4dOkSnTp0wm80EBARw7do14uPjM9zmjOoA\n",
              "2+Dcveyzvu41adIkjh8/nmHXyIwsWLCAw4cPExsbS2BgIC1btkxXJiwsjJYtW1KsWDFjWlJSEidP\n",
              "nmTLli2sX7+e2bNns2bNmhytMytDhgzhyJEj7Nixg0mTJvHnn39mOy8nbdm0aRPvvPMOy5Yts+nW\n",
              "mpmPPvqI69ev4+3tTZcuXWjQoEG6rta//fYbrVu3JjQ0lHLlygGp2ZBNmzalfv361K9fnypVqqRb\n",
              "zmq1Mnfu3HTH0P76tTd58mQKFixo8xf7R7abIiLyj6SgmYiIiMjfmKenJ5cuXSIuLs5mep48eTLs\n",
              "lnY/7L/Up419ldbl7N7XSUlJAFy7do0jR44YGW/ZuXc8rXvrya4tOW330KFD+eGHHyhdujRvvvkm\n",
              "AwcOBDIPBKWxWq3MnDkTi8WCxWIhPj7eZpy5zNqd1XL+/v7kyZOHyMhIvvjiC1599dUcbU/9+vXZ\n",
              "vXu3zYMKNm/eTJ06dYwxs7777jumTJnC3bt3ad68OUuXLsVqtVKkSBGjLRaLhZMnT9KzZ88M15NR\n",
              "HZAaRLHfVydPnmTXrl106dIlXT3Tpk3j+++/Z926deTJkydH2/jMM88Aqcdu0KBB/PzzzzaBKqvV\n",
              "yrx589IFeMqXL0/nzp1xdHSkWLFiNG/enF27dmW7vvLly9tkUZ46dYry5cunK+fl5UXZsmVtuh9n\n",
              "Ni+7tvz444/07t2b1atX23R9zKotxYoVIywsjJiYGDZu3IjJZDIyACG1e2VwcDBjx47lxRdfNKab\n",
              "TCYmTJjAgQMH2LFjB66urjbLpbXn9u3bNuOb5eT6HTNmDAkJCTZ/nsUyLS4i8o+moJmIiIjIE5Qv\n",
              "Xz7q1atn82S8tLGQIPWL++rVq+nTp0+OnihZtWpV8uTJY4yZBPDHH3+QP39+fHx8mDdvHpA6vtm2\n",
              "bduoV6/efbV37dq1xkDwaXbu3Mnhw4cB+OqrrwgKCjICb5kJDg7mm2++4erVqwDMnj2bxo0bA1Cg\n",
              "QAESEhKMskFBQaxfv54zZ84AqQ9XaNSoEY6Ojhw5coRnn32Wfv368eabbxpBDPsxuuzrbNOmDSEh\n",
              "IcYYZDdv3uTQoUPZbn92y7322mv06NGD6tWrU6VKFSA1E+/YsWNGVl9KSgqXLl0ylunevTvjxo2j\n",
              "YcOGRtbavdlASUlJnDhxAj8/P0aMGEH79u3Zs2cPVatWpUCBAsYxhdTjmlZ3/vz5jW3OrI6zZ89y\n",
              "/fp1KleubLOdc+fOpW3btjZjfAF8/PHHLFmyhI0bN6abl5mkpCTOnz9vvP7uu+8oWbIkRYsWNaZt\n",
              "3ryZpKQknnvuOZtlu3TpYpz3t27dIioqCi8vr2zX+eKLLxpdVE+ePElUVJQRGLw3E+/EiRMcOHAA\n",
              "V1fXbOdl1ZYtW7bQvXt3Vq5cma59L774Il9++SXJyclcunSJZcuWGVmdf/75J3fv3gXgwIEDhIeH\n",
              "G4Hfs2fP0qhRI0aNGpUuEHr79m1jDL4//viDKVOm8MYbb9iUmTNnDr169bK5FjO6fu05OztToEAB\n",
              "mz9HfWsUkX8pPT1TRERE5AlbsGABgwcPxs3NjVy5ctG6dWveeecdY3716tXZsGEDzZs3Z9KkSfj6\n",
              "+tosHx0dzbhx41i7di1OTk6sXLmSwYMHM2nSJBwcHBg4cCAvv/wyixYtYsCAAcyaNcsYXD6j7Jus\n",
              "rFixwhhPLE1AQACjRo3i+PHjFC1alK+//jrbepo1a8bBgwepXbs2Dg4OeHp68tlnnwGpXSMXLFiA\n",
              "2WymXbt2jBs3jqlTpxpP03zmmWf48ssvAZg1axabN28md+7cODo68tFHH3H48GEKFy5sM47TkCFD\n",
              "6NevH3ny5CEsLIxRo0Zx584datasaQQQRo0alS5bx152y7Vv355XXnmFQYMGGcsULlyYFStWMHz4\n",
              "cK5du4aDgwPvvvsuzz//vFGmffv2PP300zRu3JhVq1axYcMGpk6dCkBycjJ9+vTh0qVLODk5Ubx4\n",
              "cebNm4eTkxNr1qxh6NChhISEkJycTLFixVi8eDGQOg7ac889R548ediwYUOGdWQ0vlVKSgphYWHp\n",
              "juNvv/3G8OHDqVChgtFt1NnZ2XigwHvvvUdoaCgXL17k4MGDDBo0iAMHDpAnTx5atGjBnTt3cHBw\n",
              "oFixYqxatcqm7jlz5tC7d+902ZPDhg3j5ZdfxtXVFZPJxAsvvGBkXIWFhTF27FguX75MeHg406ZN\n",
              "Y/Xq1Xh7ezNy5Ej69OlDxYoVcXR0ZNasWUa3zzfeeIOTJ0+SK1cunJycmDVrltG9OKt5WbXlpZde\n",
              "4s6dO/Tu3dto+4IFC/Dw8KB79+7s3buXypUrYzKZGDZsGB4eHgDs2bOHIUOG4OTkRP78+fnmm28o\n",
              "Xbo0AOPGjeP06dPMmDGDGTNmAKlB2d69e5OQkECDBg1wcHAgJSWF1157zeZ8SkhI4Pvvv0+XoZrR\n",
              "9SsiIpkzWa1W65NuhIiIiIj8/SUmJlKlShWOHz9ujJ8UFhZGeHi4zZM4n7QpU6bg5OTEiBEjHvu6\n",
              "o6Oj6dKlC4cPH/7L3Wd37drFe++991DG7spO06ZNee+993Lc3Vb+d2V0/eZUbzcTY2oo3UxE/n6q\n",
              "hCU/0vqVaSYiIiIiOZI7d+4Mn9D3dzN69Ognst6+ffvy3//+l6+++uqBxpurVavWYwmYATnq8iv/\n",
              "DP8r16+IyN+JMs1EREREREQkU8o0E5G/q0edaaY7n4iIiIiIiIiIiB0FzUREREREREREROxoTDMR\n",
              "ERERERHJVOEmr1Pl44+fdDNERB47ZZqJiIiIiIiIiIjYUdBMRERERERERETEjoJmIiIiIiIiIiIi\n",
              "dhQ0ExERERERERERsaOgmYiIiIiIiIiIiB0FzUREREREREREROwoaCYiIiIiIiIiImJHQTMRERER\n",
              "ERERERE7CpqJiIiIiIiIiIjYUdBMRERERERERETEjoJmIiIiIiIiIiIidhQ0ExERERERERERsaOg\n",
              "mYiIiIiIiIiIiB0FzUREREREREREROwoaCYiIiIiIiIiImJHQTMRERERERERERE7CpqJiIiIiIiI\n",
              "iIjYUdBMRERERERERETEjslqtVqfdCNERERERETk7ylfkxoU6tToSTdDRCSd33pPeaT1K9NMRERE\n",
              "RERERETEjoJmIiIiIiIiIiIidhQ0ExERERERERERsaOgmYiIiIiIiIiIiB0FzUREREREREREROwo\n",
              "aCYiIiIi8g8RHR1Nx44dATh16hSFChXKsNy4ceNYtGjRQ133iBEjmDBhAgChoaFMnTr1odZ/v+7e\n",
              "vYuLiwuJiYk5Kt+3b18iIyMB6NWrF9OnT09X5syZMwQGBtpM+/bbb3nllVey3N/3uvcY/RUTJkxg\n",
              "6NChf3l5ERHJOacn3QAREREREXk4/Pz8WLZsWbblJk6c+EjbMWDAgEdaf1JSEk5OWX+ViYqKonbt\n",
              "2uTOnTtHdX711VfZlilTpgxbt261mbZixQp69OiRo3VAzo+RiIg8eco0ExERERF5DPbu3UvDhg3x\n",
              "8/PD29ub5cuXG9lJ48ePx9fXl0qVKrF27doMlw8ICGDHjh0AvPHGG5QtW9aYV6FCBU6fPk1UVBRm\n",
              "szndsomJiXTr1o2XX36Z5ORkm0yqCRMm8MILL9CwYUOqVavG888/z59//gmkZmuNHj0af39/zGYz\n",
              "HTp04PLlywCcPXuWJk2a4OrqSnBwML/99puxvnuzoeLi4qhbty4+Pj64urry3nvvZbqPoqOjCQgI\n",
              "wNPTE39/f7Zv3w78f9bcqFGj8PHxYdasWRw+fJjatWvj5uZGu3btaNy4MWFhYUZd4eHhtG3blv/+\n",
              "9780btwYgKtXr5IrVy6++OILAL7++mv69OkDQIMGDQgPD0/Xpq1bt+Lq6kp0dHS6bLK7d++yfft2\n",
              "GjZsmG65DRs24OPjg6enJ/Xr1yc+Ph4g3THasGEDdevWxdfXF39/fyPb7X5du3aNfv364e/vj6en\n",
              "J/379zey7M6dO0eHDh3w9/fHw8ODsWPHZlrPnTt3uHr1qs0fyda/1CYRkf91CpqJiIiIiDxiV65c\n",
              "oX///ixatIjo6Gg2btzI8OHD+f3330lISMDT05N9+/Yxa9YsXn/99QzrCA4OJiIiAoDNmzdTrlw5\n",
              "4uPjOXHiBE5OTpQvXz7TdTdt2hRXV1dmz56No6NjujJbt25l8eLFHD58mGeeeYYxY8YAMHXqVPLm\n",
              "zcuePXuwWCw2AZchQ4bg7+9PfHw88+fPZ9OmTRmu38XFhU2bNrF//3727dvHd999x65du9KVS0xM\n",
              "pF27dowfP57Y2Fg+/vhjXnjhBa5fvw5AQkICbm5u7N+/n6FDh9K9e3f69+/PoUOHeP/999myZYtR\n",
              "l9VqZf369TRr1ozAwECio6O5c+cOkZGR1KhRw9iPGzduJDg4OMN2AyxbtozBgwfzww8/4Ofnl25+\n",
              "ZGQkAQEB5MqVy2b6hQsX6NKlC/Pnzyc2Npb+/fvTvn17rFbb4NPPP//MhAkTWLt2Lfv27WPx4sV0\n",
              "6dKFO3fuZNqmzAwfPpzAwED27NlDTEwMKSkpzJgxA4CePXvy6quvsmfPHg4cOEB0dDTLly/PsJ7J\n",
              "kydTsGBBm7/Ek2fvuz0iIv8E6p4pIiIiIvKI7dixg59//plmzZrZTD9y5AhPPfUU7dq1A6B27dqc\n",
              "OHEiwzqCg4MZO3YsAwcOxMnJiRdffJGIiAicnZ1p1KhRhsskJiZSp04dRo0alWUXwhYtWlCqVCkA\n",
              "+vfvb7QnPDychIQEvvvuO6M+FxcXADZt2sS0adMAKFu2LK1atcqw7lu3bjFw4EAsFgsODg78+uuv\n",
              "WCwWatWqlW5fODg40KRJEwDq1q1LyZIlsVgslCtXjly5ctGtWzcgNWPMYrEY21S9enXq1q1r1LV3\n",
              "716qVatG/vz5ATCbzWzfvp2IiAhGjx7NsGHDSElJYfPmzZmOvbZgwQIcHR2JjIykcOHCGZZJy2az\n",
              "t3v3bjw8PPDw8ACga9euvPrqq/z+++825davX8/x48epV6+eMc3BwYHTp09TuXLlDNeZmfDwcHbu\n",
              "3MnHH38MpO53R0dHbty4waZNmzh//rxR9vr16xw5ciTDesaMGcOwYcNsppVplz6TTkTk30BBMxER\n",
              "ERGRR8xqteLm5mZ0r0xz6tQpnJ2dMZlMADg6OpKcnJxhHbVr1+bgwYOsXLmShg0bEhwczNtvv42z\n",
              "s3OmA8vnypWLunXrsnr1ajp37pwuIyozae2xWq3MnDnT6N6Yk2XsvfnmmxQrVowDBw7g5OREu3bt\n",
              "uH379n21AyBPnjw4OGTeUebesitWrKBNmzbG67QsvS1btjBlyhQ8PDxYuHAhhQsXNoKF9jw9Pdm6\n",
              "dStxcXE2Qa00VquVDRs28OGHH+ZoWzJitVp57rnnWLx48V+u4966vvvuO6pUqWIzPS1Tb9euXTz1\n",
              "1FPZ1uPs7Iyzs7PtRMeMj62IyD+dumeKiIiIiDxiAQEBnDx50ugWCGCxWHL8ZEdIDYDVqlWLd999\n",
              "l+DgYDw9PYmPjycqKirDMbUgNZA0e/ZsnnnmGdq0acOtW7cyLLd27VojE+mrr74yuiy2adOGkJAQ\n",
              "bt68CcDNmzc5dOgQkBqImjt3LpA6vtmqVasyrPvy5cuUK1cOJycnjhw5wsaNGzMsV7VqVVJSUoz5\n",
              "O3bs4Ny5cxmO0VagQAG8vLxYuHAhkJqltm3bNmP+qlWraN26tfE6ODiYxYsXU6hQIfLmzUtwcDDj\n",
              "xo3Lsmuml5cXq1evpk+fPqxfvz7d/D179lC9enXy5cuXbl6tWrWIi4vj4MGDACxdupSyZcvajEMH\n",
              "0KRJEyIiIoiNjbWp969o06YNH3zwAUlJSUDqfj9+/Dj58uUjKCiIKVOmGGXPnDljMwadiIhkTEEz\n",
              "EREREZFHrHDhwvzwww9MmjQJLy8vXF1dGT16NCkpKVku17dvX5tgVHBwMBcuXKBOnTqYTCb8/f0p\n",
              "X748RYoUybKejz/+GB8fH5o3b25kHt0rMDCQLl26UK1aNX755RcmTZoEwKhRo6hRowY1a9bE09OT\n",
              "WrVqYbFYAJgxYwa7du3C1dWVHj16ZBq4Gzt2LPPmzcPT05PRo0fblIuOjqZ58+YA5M6dm++//57x\n",
              "48fj6enJ0KFD+fbbbzMMSkHqIP6ff/457u7uRjsLFSrE4cOHKVy4MCVKlDDK+vn5kZCQYHRjfe65\n",
              "5/jll18y7daapnr16mzYsIHXXnvN6KKaxj6bLSkpycjkKl68OIsWLaJHjx54enry+eefs3z58nTZ\n",
              "eJUqVWLx4sW8/PLLeHl5Ub16deMBDVmZM2cO5cqVM/4+/vhjQkJCePrppzGbzXh6etKoUSNOnToF\n",
              "wKJFizh+/Dju7u54eHjQrl0742EPIiKSOZPVfjRKERERERH515gwYQJXrlzJUbDm7+T69evkzZsX\n",
              "k8nEyZMnqV27Nnv37mXRokU4OTkxYsSIR7p+Nzc3IiMjjeDc8uXLmTlzps0DCf4p8jWpQaFOWQcY\n",
              "RUSehN96T8m+0APQmGYiIiIiIvI/Z8eOHYwcORKA5ORkQkJCeOaZZxg9evRjWX9aN1WAzp07Ex8f\n",
              "T2ho6GNZt4iIPB7KNBMREREREfkbWbt2LW+++Wa66WPGjMn0oQ+PkjLNROTvSplmIiIiIiIi/yLN\n",
              "mzc3xnoTEZEnR0EzERERERERyVR/t0A+fsTZHCIif0d6eqaIiIiIiIiIiIgdBc1ERERERERERETs\n",
              "KGgmIiIiIiIiIiJiR0EzEREREREREREROwqaiYiIiIiIiIiI2FHQTERERERERERExI6CZiIiIiIi\n",
              "IiIiInYUNBMREREREREREbHj9KQbICIiIiIiIn9Pd+7cYd26dSQnJ+Po6Pikm/NIJScns2fPHvz9\n",
              "/bWt/zD/pu3VtubMf/7zH1577bVsy5msVqv1rzZQRERERERE/rmuXr1KwYIFSUhIoECBAk+6OY+U\n",
              "tvWf69+0vdrWh0vdM0VEREREREREROwoaCYiIiIiIiIiImJHQTMRERERERERERE7CpqJiIiIiIhI\n",
              "hpydnRk/fjzOzs5PuimPnLb1n+vftL3a1odLDwIQERERERERERGxo0wzEREREREREREROwqaiYiI\n",
              "iIiIiIiI2FHQTERERERERERExI6CZiIiIiIiIiIiInYUNBMREREREfmXO3bsGAEBAVSpUoUaNWpw\n",
              "6NChDMvNmTOHypUrU7FiRfr168fdu3cfc0sfXE62dfPmzfj7++Pq6oqbmxtvvPEGKSkpT6C1Dyan\n",
              "xxXAarXSsGFDChUq9Pga+BDldFvj4uJo0KAB1atXp3r16nz//fePuaUPLifbmpKSwrBhw3B1dcXT\n",
              "05OgoCCOHz/+BFr7YIYMGYKLiwsmkwmLxZJpuUd1b1LQTERERERE5F/u5Zdfpn///hw9epRRo0bR\n",
              "q1evdGVOnjzJ22+/zdatWzl+/Djnz5/niy++ePyNfUA52dbChQuzdOlS4uPj2bdvHzt27ODrr79+\n",
              "/I19QDnZ1jQhISFUrFjx8TXuIcvJtt68eZPWrVvz3nvv8dNPP3Hw4EECAwMff2MfUE62ddWqVWzf\n",
              "vp2YmBhiY2Np1KgRb7755uNv7ANq374927Zt4z//+U+mZR7lvUlBMxERERERkX+xCxcuEB0dTbdu\n",
              "3QB44YUX+PXXX9NlpXz77be0atWKUqVKYTKZGDBgAEuWLHkSTf7Lcrqt3t7eVKhQAYCnnnoKs9nM\n",
              "qVOnHndzH0hOtxXg0KFDhIeHM3r06MfdzIcip9u6ePFiatWqRd26dQFwdHSkePHij729DyKn22oy\n",
              "mbhz5w63b9/GarVy9epVypUr9ySa/EDq1auXbbsf5b1JQTMREREREZF/sV9//ZXSpUvj5OQEpH7Z\n",
              "Ll++PKdPn7Ypd/r0aZtsDxcXl3Rl/u5yuq33OnfuHN9++y0tW7Z8XM18KHK6rXfv3qVfv37Mnj0b\n",
              "R0fHJ9HUB5bTbY2Pj8fZ2ZmWLVtiNpvp0aMHFy9efBJN/styuq3PP/88DRo0oFSpUpQuXZpNmzYx\n",
              "ceLEJ9HkR+5R3psUNBMRERERERHJwNWrV3n++ed544038PPze9LNeSTeeecd2rVrR/Xq1Z90Ux65\n",
              "pKQkIiIimD17NgcOHKBs2bK88sorT7pZj0R0dDQHDx7k999/58yZMzRq1IgBAwY86Wb9z1HQTERE\n",
              "RERE5F/smWee4ezZsyQlJQGpA8KfPn2a8uXL25QrX748v/zyi/H61KlT6cr83eV0WwGuXbtG06ZN\n",
              "ad26NcOGDXvcTX1gOd3WH3/8kZkzZ+Li4kLdunW5evUqLi4u/1MZWPdzDgcFBVG2bFlMJhPdunVj\n",
              "165dT6LJf1lOt/Xrr782Huzg4OBAz549iYyMfBJNfuQe5b1JQTMREREREZF/sRIlSuDj48PChQsB\n",
              "+O677yhXrhyVKlWyKffCCy+watUqzp07h9VqJTQ0lE6dOj2JJv9lOd3W69ev07RpU5o2bcrYsWOf\n",
              "RFMfWE63devWrfzyyy+cOnWKbdu2UaBAAU6dOvU/NdZXTre1Q4cO7N27l6tXrwKwdu1avLy8Hnt7\n",
              "H0ROt7VChQps3ryZxMREANasWYO7u/tjb+/j8CjvTSar1Wp9KDWJiIiIiIjI/6QjR47Qq1cv/vzz\n",
              "TwoUKMC8efPw8PCgb9++tGrVilatWgHw5ZdfMmXKFAAaNGhAaGgouXLlepJNv2852db333+fCRMm\n",
              "4ObmZiz34osv8tZbbz3Blt+/nB7XNKdOncJsNnPlypUn0+AHkNNtXbBgAR988AEODg6ULVuWL774\n",
              "gmeeeeYJt/7+5GRb79y5w6BBg9i2bRu5cuWiVKlShIaGGg+4+F/x8ssv88MPP3Du3DmKFi1K/vz5\n",
              "OX78+GO7NyloJiIiIiIiIiIiYkfdM0VEREREREREROwoaCYiIiIiIiIiImJHQTMRERERERERERE7\n",
              "CpqJiIiIiIiIiIjYUdBMRERERERERETEjoJmIiIiIiIiIiIidhQ0ExERERERERERsaOgmYiIiIiI\n",
              "iIiIiB0FzUREREREREREROwoaCYiIiIiIiIiImLn/wC1Mu6noF2cWgAAAABJRU5ErkJggg==\n",
              "\">\n",
              "        \n",
              "      </div>\n",
              "      <script></script>\n",
              "      <script type=\"text/javascript\">\n",
              "        (() => {\n",
              "          const chartElement = document.getElementById(\"chart-cd4edaba-e896-4023-b647-a0c9b78e9784\");\n",
              "          async function getCodeForChartHandler(event) {\n",
              "            const chartCodeResponse =  await google.colab.kernel.invokeFunction(\n",
              "                'getCodeForChart', [\"chart-cd4edaba-e896-4023-b647-a0c9b78e9784\"], {});\n",
              "            const responseJson = chartCodeResponse.data['application/json'];\n",
              "            await google.colab.notebook.addCell(responseJson.code, 'code');\n",
              "          }\n",
              "          chartElement.onclick = getCodeForChartHandler;\n",
              "        })();\n",
              "      </script>\n",
              "      <style>\n",
              "        .colab-quickchart-chart-with-code  {\n",
              "            display: block;\n",
              "            float: left;\n",
              "            border: 1px solid transparent;\n",
              "        }\n",
              "\n",
              "        .colab-quickchart-chart-with-code:hover {\n",
              "            cursor: pointer;\n",
              "            border: 1px solid #aaa;\n",
              "        }\n",
              "      </style>"
            ]
          },
          "metadata": {}
        }
      ]
    },
    {
      "cell_type": "code",
      "source": [
        "url_dataset.shape"
      ],
      "metadata": {
        "colab": {
          "base_uri": "https://localhost:8080/"
        },
        "id": "hdvCQUyB1M92",
        "outputId": "ebfad981-0511-46eb-d93f-ec2e04529d82"
      },
      "execution_count": null,
      "outputs": [
        {
          "output_type": "execute_result",
          "data": {
            "text/plain": [
              "(420464, 2)"
            ]
          },
          "metadata": {},
          "execution_count": 5
        }
      ]
    },
    {
      "cell_type": "code",
      "source": [
        "#checking is there any missing values\n",
        "url_dataset.isnull().sum()"
      ],
      "metadata": {
        "colab": {
          "base_uri": "https://localhost:8080/"
        },
        "id": "4uYgx5b61TVm",
        "outputId": "828b4a7a-eda0-4113-8769-d2ea70ac854c"
      },
      "execution_count": null,
      "outputs": [
        {
          "output_type": "execute_result",
          "data": {
            "text/plain": [
              "URLs     0\n",
              "Class    0\n",
              "dtype: int64"
            ]
          },
          "metadata": {},
          "execution_count": 6
        }
      ]
    },
    {
      "cell_type": "code",
      "source": [
        "#counting no of good and bad url's\n",
        "url_dataset['Class'].value_counts()"
      ],
      "metadata": {
        "colab": {
          "base_uri": "https://localhost:8080/"
        },
        "id": "mckz-XcN2PEz",
        "outputId": "8a8c2e36-fe9c-4394-f86a-40cbdc5fa739"
      },
      "execution_count": null,
      "outputs": [
        {
          "output_type": "execute_result",
          "data": {
            "text/plain": [
              "good    344821\n",
              "bad      75643\n",
              "Name: Class, dtype: int64"
            ]
          },
          "metadata": {},
          "execution_count": 7
        }
      ]
    },
    {
      "cell_type": "code",
      "source": [
        "#dataprocessing\n",
        "x=url_dataset.drop(columns='Class',axis=1)\n",
        "y=url_dataset['Class']"
      ],
      "metadata": {
        "id": "xhC7KEss2xrq"
      },
      "execution_count": null,
      "outputs": []
    },
    {
      "cell_type": "code",
      "source": [
        "# Perform Train/Test split\n",
        "\n",
        "\n",
        "train_df, test_df = train_test_split(url_dataset, test_size=0.2, random_state=2)\n",
        "\n",
        "labels = train_df['Class']\n",
        "test_labels = test_df['Class']\n",
        "\n",
        "print(\"\\n Split Complete\\n\")"
      ],
      "metadata": {
        "colab": {
          "base_uri": "https://localhost:8080/"
        },
        "id": "IUdFiqPONC2c",
        "outputId": "6ce3082f-bd48-4da7-fc08-278670b2b401"
      },
      "execution_count": null,
      "outputs": [
        {
          "output_type": "stream",
          "name": "stdout",
          "text": [
            "\n",
            " Split Complete\n",
            "\n"
          ]
        }
      ]
    },
    {
      "cell_type": "code",
      "source": [
        "print(x)\n",
        "print(y)"
      ],
      "metadata": {
        "colab": {
          "base_uri": "https://localhost:8080/"
        },
        "id": "OPqOQL0Z9YUr",
        "outputId": "f7e61085-6877-4834-e78c-2f22d4f4594e"
      },
      "execution_count": null,
      "outputs": [
        {
          "output_type": "stream",
          "name": "stdout",
          "text": [
            "                                                     URLs\n",
            "0                         freebase.com/view/en/bob_sirois\n",
            "1                          en.wikipedia.org/wiki/Joie_Lee\n",
            "2                pipl.com/directory/people/Rejean/Beaudin\n",
            "3       flickr.com/photos/teneyck/sets/72157610336209297/\n",
            "4       ussoccer.com/News/Federation-Services/2009/06/...\n",
            "...                                                   ...\n",
            "420459  ourorigins.org/genealogielistfirstname.aspx?an...\n",
            "420460    simira.co.id/cifk/live.com/Account_Verified.htm\n",
            "420461  kstatesports.com/sports/w-baskbl/spec-rel/ksu-...\n",
            "420462  vh1.com/video/living-colour/9128/cult-of-perso...\n",
            "420463     absoluteastronomy.com/topics/SummerSlam_(1990)\n",
            "\n",
            "[420464 rows x 1 columns]\n",
            "0         good\n",
            "1         good\n",
            "2         good\n",
            "3         good\n",
            "4         good\n",
            "          ... \n",
            "420459    good\n",
            "420460     bad\n",
            "420461    good\n",
            "420462    good\n",
            "420463    good\n",
            "Name: Class, Length: 420464, dtype: object\n"
          ]
        }
      ]
    },
    {
      "cell_type": "code",
      "source": [
        "def tokenizer(url):\n",
        "  \"\"\"Separates feature words from the raw data\n",
        "  Keyword arguments:\n",
        "    url ---- The full URL\n",
        "\n",
        "  :Returns -- The tokenized words; returned as a list\n",
        "  \"\"\"\n",
        "\n",
        "  # Split by slash (/) and dash (-)\n",
        "  tokens = re.split('[/-]', url)\n",
        "\n",
        "  for i in tokens:\n",
        "    # Include the splits extensions and subdomains\n",
        "    if i.find(\".\") >= 0:\n",
        "      dot_split = i.split('.')\n",
        "\n",
        "      # Remove .com and www. since they're too common\n",
        "      if \"com\" in dot_split:\n",
        "        dot_split.remove(\"com\")\n",
        "      if \"www\" in dot_split:\n",
        "        dot_split.remove(\"www\")\n",
        "\n",
        "      tokens += dot_split\n",
        "\n",
        "  return tokens\n",
        "\n",
        "print(\"\\nTokenizer defined\\n\")"
      ],
      "metadata": {
        "colab": {
          "base_uri": "https://localhost:8080/"
        },
        "id": "T8ZrnwIS9f6l",
        "outputId": "0d7883a2-4973-4b51-81b7-926d17ef8d9f"
      },
      "execution_count": null,
      "outputs": [
        {
          "output_type": "stream",
          "name": "stdout",
          "text": [
            "\n",
            "Tokenizer defined\n",
            "\n"
          ]
        }
      ]
    },
    {
      "cell_type": "code",
      "source": [
        "print(test_url)\n",
        "print('tokenized url is')\n",
        "tokenized_url = tokenizer(test_url)\n",
        "print(tokenized_url)\n",
        "#print('toknaized url')\n",
        "#print(tokenized_url)"
      ],
      "metadata": {
        "colab": {
          "base_uri": "https://localhost:8080/"
        },
        "id": "jw1YovPyAMTT",
        "outputId": "0a90e4ae-8a84-4da9-a759-d46069ab7cb2"
      },
      "execution_count": null,
      "outputs": [
        {
          "output_type": "stream",
          "name": "stdout",
          "text": [
            "ussoccer.com/News/Federation-Services/2009/06/University-Of-Miami-President-Donna-E-Shalala-Joins-Team-To-Bring-FIFA-World-Cup-To-United-States-In.aspx\n",
            "tokenized url is\n",
            "['ussoccer.com', 'News', 'Federation', 'Services', '2009', '06', 'University', 'Of', 'Miami', 'President', 'Donna', 'E', 'Shalala', 'Joins', 'Team', 'To', 'Bring', 'FIFA', 'World', 'Cup', 'To', 'United', 'States', 'In.aspx', 'ussoccer', 'In', 'aspx']\n"
          ]
        }
      ]
    },
    {
      "cell_type": "code",
      "source": [
        "for token in list(dict.fromkeys(tokenized_url)):\n",
        " print(\"{}  ->  {}\".format(tokenized_url.count(token), token))\n",
        "\n"
      ],
      "metadata": {
        "colab": {
          "base_uri": "https://localhost:8080/"
        },
        "id": "fpeKLCIz_Lfy",
        "outputId": "08e4ee0a-221a-4e11-8975-cc505210e14a"
      },
      "execution_count": null,
      "outputs": [
        {
          "output_type": "stream",
          "name": "stdout",
          "text": [
            "1  ->  ussoccer.com\n",
            "1  ->  News\n",
            "1  ->  Federation\n",
            "1  ->  Services\n",
            "1  ->  2009\n",
            "1  ->  06\n",
            "1  ->  University\n",
            "1  ->  Of\n",
            "1  ->  Miami\n",
            "1  ->  President\n",
            "1  ->  Donna\n",
            "1  ->  E\n",
            "1  ->  Shalala\n",
            "1  ->  Joins\n",
            "1  ->  Team\n",
            "2  ->  To\n",
            "1  ->  Bring\n",
            "1  ->  FIFA\n",
            "1  ->  World\n",
            "1  ->  Cup\n",
            "1  ->  United\n",
            "1  ->  States\n",
            "1  ->  In.aspx\n",
            "1  ->  ussoccer\n",
            "1  ->  In\n",
            "1  ->  aspx\n"
          ]
        }
      ]
    },
    {
      "cell_type": "code",
      "source": [
        "c_vec = CountVectorizer(tokenizer = tokenizer)\n",
        "c_out= c_vec.fit_transform([test_url])\n",
        "print(c_out)\n",
        "\n",
        "t_vec = TfidfVectorizer(tokenizer = tokenizer)\n",
        "t_out= t_vec.fit_transform([test_url])\n",
        "print(t_out)\n"
      ],
      "metadata": {
        "colab": {
          "base_uri": "https://localhost:8080/"
        },
        "id": "byjtohd-Eo3_",
        "outputId": "e40bf6cd-ef7b-497b-9d33-a6c2dc5258d2"
      },
      "execution_count": null,
      "outputs": [
        {
          "output_type": "stream",
          "name": "stdout",
          "text": [
            "  (0, 24)\t1\n",
            "  (0, 13)\t1\n",
            "  (0, 7)\t1\n",
            "  (0, 16)\t1\n",
            "  (0, 1)\t1\n",
            "  (0, 0)\t1\n",
            "  (0, 22)\t1\n",
            "  (0, 14)\t1\n",
            "  (0, 12)\t1\n",
            "  (0, 15)\t1\n",
            "  (0, 5)\t1\n",
            "  (0, 6)\t1\n",
            "  (0, 17)\t1\n",
            "  (0, 11)\t1\n",
            "  (0, 19)\t1\n",
            "  (0, 20)\t2\n",
            "  (0, 3)\t1\n",
            "  (0, 8)\t1\n",
            "  (0, 25)\t1\n",
            "  (0, 4)\t1\n",
            "  (0, 21)\t1\n",
            "  (0, 18)\t1\n",
            "  (0, 10)\t1\n",
            "  (0, 23)\t1\n",
            "  (0, 9)\t1\n",
            "  (0, 2)\t1\n",
            "  (0, 2)\t0.18569533817705186\n",
            "  (0, 9)\t0.18569533817705186\n",
            "  (0, 23)\t0.18569533817705186\n",
            "  (0, 10)\t0.18569533817705186\n",
            "  (0, 18)\t0.18569533817705186\n",
            "  (0, 21)\t0.18569533817705186\n",
            "  (0, 4)\t0.18569533817705186\n",
            "  (0, 25)\t0.18569533817705186\n",
            "  (0, 8)\t0.18569533817705186\n",
            "  (0, 3)\t0.18569533817705186\n",
            "  (0, 20)\t0.3713906763541037\n",
            "  (0, 19)\t0.18569533817705186\n",
            "  (0, 11)\t0.18569533817705186\n",
            "  (0, 17)\t0.18569533817705186\n",
            "  (0, 6)\t0.18569533817705186\n",
            "  (0, 5)\t0.18569533817705186\n",
            "  (0, 15)\t0.18569533817705186\n",
            "  (0, 12)\t0.18569533817705186\n",
            "  (0, 14)\t0.18569533817705186\n",
            "  (0, 22)\t0.18569533817705186\n",
            "  (0, 0)\t0.18569533817705186\n",
            "  (0, 1)\t0.18569533817705186\n",
            "  (0, 16)\t0.18569533817705186\n",
            "  (0, 7)\t0.18569533817705186\n",
            "  (0, 13)\t0.18569533817705186\n",
            "  (0, 24)\t0.18569533817705186\n"
          ]
        },
        {
          "output_type": "stream",
          "name": "stderr",
          "text": [
            "/usr/local/lib/python3.10/dist-packages/sklearn/feature_extraction/text.py:528: UserWarning: The parameter 'token_pattern' will not be used since 'tokenizer' is not None'\n",
            "  warnings.warn(\n"
          ]
        }
      ]
    },
    {
      "cell_type": "code",
      "source": [
        "cvec = CountVectorizer(tokenizer = tokenizer)\n",
        "train_count = cvec.fit_transform(train_df['URLs'])\n",
        "\n",
        "tfidfvec = TfidfVectorizer(tokenizer = tokenizer)\n",
        "train_tfidf = tfidfvec.fit_transform(train_df['URLs'])\n"
      ],
      "metadata": {
        "id": "jg80L2H3AP-I"
      },
      "execution_count": null,
      "outputs": []
    },
    {
      "cell_type": "code",
      "source": [
        "test_count = cvec.fit_transform(test_df['URLs'])\n",
        "test_tfidf = tfidfvec.fit_transform(test_df['URLs'])\n"
      ],
      "metadata": {
        "id": "0Uf1TxcCFeDL"
      },
      "execution_count": null,
      "outputs": []
    },
    {
      "cell_type": "code",
      "source": [
        "model = MultinomialNB()\n",
        "\n"
      ],
      "metadata": {
        "id": "Dn0QEgbqRfp5"
      },
      "execution_count": null,
      "outputs": []
    },
    {
      "cell_type": "code",
      "source": [
        "print(labels)\n",
        "\n",
        "model.fit(train_tfidf, labels)\n",
        "\n",
        "model_train_prediction = model.predict(train_tfidf)\n",
        "train_data_accuracy = accuracy_score(model_train_prediction,labels)\n",
        "print(train_data_accuracy)\n",
        "\n",
        "\n",
        "\n",
        "\n",
        "#precession and recall"
      ],
      "metadata": {
        "colab": {
          "base_uri": "https://localhost:8080/"
        },
        "id": "4sMzwUs4Bd7C",
        "outputId": "5e1557f5-2a2a-46e3-9ac2-ca32d6663bd9"
      },
      "execution_count": null,
      "outputs": [
        {
          "output_type": "stream",
          "name": "stdout",
          "text": [
            "271934    good\n",
            "53429     good\n",
            "369659    good\n",
            "73727     good\n",
            "338507     bad\n",
            "          ... \n",
            "84434     good\n",
            "95816     good\n",
            "203245    good\n",
            "100879    good\n",
            "351400    good\n",
            "Name: Class, Length: 336371, dtype: object\n",
            "0.9849481673509309\n"
          ]
        }
      ]
    },
    {
      "cell_type": "code",
      "source": [
        "model.fit(test_tfidf,test_labels)\n",
        "model_test_prediction = model.predict(test_tfidf)\n",
        "test_accuracy_score = accuracy_score(model_test_prediction, test_labels)\n",
        "print(test_accuracy_score)"
      ],
      "metadata": {
        "colab": {
          "base_uri": "https://localhost:8080/"
        },
        "id": "Vy8ir_-c-1_t",
        "outputId": "2771a861-e9e5-4ace-d86a-72c6fa10af87"
      },
      "execution_count": null,
      "outputs": [
        {
          "output_type": "stream",
          "name": "stdout",
          "text": [
            "0.9750752143460216\n"
          ]
        }
      ]
    },
    {
      "cell_type": "code",
      "source": [
        "count_model = MultinomialNB()\n",
        "count_model.fit(train_count,labels)\n",
        "model_train_prediction = count_model.predict(train_count)\n",
        "model_train_accuracy = accuracy_score(model_train_prediction,labels)\n",
        "print(model_train_accuracy)"
      ],
      "metadata": {
        "colab": {
          "base_uri": "https://localhost:8080/"
        },
        "id": "nDMzC1xHBV19",
        "outputId": "f73bb680-60d1-402a-f167-56f8130f20b1"
      },
      "execution_count": null,
      "outputs": [
        {
          "output_type": "stream",
          "name": "stdout",
          "text": [
            "0.9923507079980141\n"
          ]
        }
      ]
    },
    {
      "cell_type": "code",
      "source": [
        "count_model.fit(test_count,test_labels)\n",
        "test_model_prediction = count_model.predict(test_count)\n",
        "count_test_accuracy = accuracy_score(test_model_prediction,test_labels)\n",
        "print(count_test_accuracy)"
      ],
      "metadata": {
        "colab": {
          "base_uri": "https://localhost:8080/"
        },
        "id": "kKOn8od9_PDB",
        "outputId": "a4f1882d-09c9-4bf3-a165-c686e6cd4bba"
      },
      "execution_count": null,
      "outputs": [
        {
          "output_type": "stream",
          "name": "stdout",
          "text": [
            "0.992710451523908\n"
          ]
        }
      ]
    },
    {
      "cell_type": "code",
      "source": [
        "logic_reg = LogisticRegression()\n",
        "logic_reg.fit(train_tfidf,labels)\n",
        "train_log_prediction = logic_reg.predict(train_tfidf)\n",
        "train_logic_accuracy = accuracy_score(train_log_prediction,labels)\n",
        "print(train_logic_accuracy)"
      ],
      "metadata": {
        "id": "O_jP06cNDNkQ",
        "colab": {
          "base_uri": "https://localhost:8080/"
        },
        "outputId": "1b46e12b-6075-4314-c6b2-43866bd4386f"
      },
      "execution_count": null,
      "outputs": [
        {
          "output_type": "stream",
          "name": "stderr",
          "text": [
            "/usr/local/lib/python3.10/dist-packages/sklearn/linear_model/_logistic.py:458: ConvergenceWarning: lbfgs failed to converge (status=1):\n",
            "STOP: TOTAL NO. of ITERATIONS REACHED LIMIT.\n",
            "\n",
            "Increase the number of iterations (max_iter) or scale the data as shown in:\n",
            "    https://scikit-learn.org/stable/modules/preprocessing.html\n",
            "Please also refer to the documentation for alternative solver options:\n",
            "    https://scikit-learn.org/stable/modules/linear_model.html#logistic-regression\n",
            "  n_iter_i = _check_optimize_result(\n"
          ]
        },
        {
          "output_type": "stream",
          "name": "stdout",
          "text": [
            "0.9714333280811961\n"
          ]
        }
      ]
    },
    {
      "cell_type": "code",
      "source": [
        "logic_reg.fit(test_tfidf,test_labels)\n",
        "test_log_prediction = logic_reg.predict(test_tfidf)\n",
        "test_logic_accuracy = accuracy_score(test_log_prediction,test_labels)\n",
        "print(test_logic_accuracy)"
      ],
      "metadata": {
        "id": "bRrpP0SXP1I1",
        "colab": {
          "base_uri": "https://localhost:8080/"
        },
        "outputId": "6fe10db1-d79a-47c1-ae82-d6ad109b997d"
      },
      "execution_count": null,
      "outputs": [
        {
          "output_type": "stream",
          "name": "stdout",
          "text": [
            "0.9550973327149703\n"
          ]
        }
      ]
    },
    {
      "cell_type": "markdown",
      "source": [
        "making predictive system"
      ],
      "metadata": {
        "id": "d-gFfrpMV0LJ"
      }
    },
    {
      "cell_type": "code",
      "source": [
        "new_input = [\"br-icloud.com.br\"]\n",
        "\n",
        "new_input = tfidfvec.transform(new_input)\n",
        "prediction = logic_reg.predict(new_input)\n",
        "if(prediction == 'good'):\n",
        "    print('url is benign')\n",
        "else:\n",
        "  print('url is malicious')"
      ],
      "metadata": {
        "colab": {
          "base_uri": "https://localhost:8080/"
        },
        "id": "vVo-KdWbR10-",
        "outputId": "f06fa578-3722-413f-a14d-5bff69848670"
      },
      "execution_count": null,
      "outputs": [
        {
          "output_type": "stream",
          "name": "stdout",
          "text": [
            "url is malicious\n"
          ]
        }
      ]
    },
    {
      "cell_type": "code",
      "source": [
        "new_input = [\"qwedcrfc.com.br\"]\n",
        "\n",
        "new_input = tfidfvec.transform(new_input)\n",
        "prediction = logic_reg.predict(new_input)\n",
        "if(prediction == 'good'):\n",
        "    print('url is benign')\n",
        "else:\n",
        "  print('url is malicious')"
      ],
      "metadata": {
        "colab": {
          "base_uri": "https://localhost:8080/"
        },
        "id": "kJyKhFatxuil",
        "outputId": "0df482d3-14af-44cc-e267-9104dfd3258e"
      },
      "execution_count": null,
      "outputs": [
        {
          "output_type": "stream",
          "name": "stdout",
          "text": [
            "url is malicious\n"
          ]
        }
      ]
    },
    {
      "cell_type": "code",
      "source": [
        "new_input = [\"google.com\"]\n",
        "\n",
        "new_input = tfidfvec.transform(new_input)\n",
        "prediction = logic_reg.predict(new_input)\n",
        "if(prediction == 'good'):\n",
        "    print('url is benign')\n",
        "else:\n",
        "  print('url is malicious')"
      ],
      "metadata": {
        "colab": {
          "base_uri": "https://localhost:8080/"
        },
        "id": "AeguLfNSx0Vm",
        "outputId": "3f270d2c-a73a-4e14-d392-f34e123d079a"
      },
      "execution_count": null,
      "outputs": [
        {
          "output_type": "stream",
          "name": "stdout",
          "text": [
            "url is benign\n"
          ]
        }
      ]
    }
  ]
}